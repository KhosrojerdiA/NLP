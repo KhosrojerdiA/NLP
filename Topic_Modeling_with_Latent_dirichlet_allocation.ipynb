{
  "nbformat": 4,
  "nbformat_minor": 0,
  "metadata": {
    "colab": {
      "provenance": [],
      "toc_visible": true,
      "gpuType": "T4",
      "authorship_tag": "ABX9TyOcuiyxdmZYPwkuE6FgzuMu",
      "include_colab_link": true
    },
    "kernelspec": {
      "name": "python3",
      "display_name": "Python 3"
    },
    "language_info": {
      "name": "python"
    },
    "accelerator": "GPU"
  },
  "cells": [
    {
      "cell_type": "markdown",
      "metadata": {
        "id": "view-in-github",
        "colab_type": "text"
      },
      "source": [
        "<a href=\"https://colab.research.google.com/github/KhosrojerdiA/NLP/blob/main/Topic_Modeling_with_Latent_dirichlet_allocation.ipynb\" target=\"_parent\"><img src=\"https://colab.research.google.com/assets/colab-badge.svg\" alt=\"Open In Colab\"/></a>"
      ]
    },
    {
      "cell_type": "markdown",
      "source": [
        "#Data\n",
        "https://github.com/franciscadias/data/blob/master/abcnews-date-text.csv"
      ],
      "metadata": {
        "id": "9crOUNb7T-Ob"
      }
    },
    {
      "cell_type": "code",
      "source": [
        "import pandas as pd\n",
        "data = pd.read_csv('abcnews-date-text.csv')\n",
        "# We only need the Headlines text column from the data\n",
        "data_text = data[:300000][['headline_text']];\n",
        "data_text['index'] = data_text.index\n",
        "\n",
        "documents = data_text"
      ],
      "metadata": {
        "id": "Jr2JVjfkT-2W"
      },
      "execution_count": null,
      "outputs": []
    },
    {
      "cell_type": "code",
      "source": [
        "documents[:5]"
      ],
      "metadata": {
        "colab": {
          "base_uri": "https://localhost:8080/",
          "height": 206
        },
        "id": "_l2pZwqvUHjg",
        "outputId": "4bd3d7b1-8b7a-407c-e5cf-418e8be1ad50"
      },
      "execution_count": null,
      "outputs": [
        {
          "output_type": "execute_result",
          "data": {
            "text/plain": [
              "                                       headline_text  index\n",
              "0  aba decides against community broadcasting lic...      0\n",
              "1     act fire witnesses must be aware of defamation      1\n",
              "2     a g calls for infrastructure protection summit      2\n",
              "3           air nz staff in aust strike for pay rise      3\n",
              "4      air nz strike to affect australian travellers      4"
            ],
            "text/html": [
              "\n",
              "  <div id=\"df-231f38e3-26ff-4596-ba5d-8e8502b95af1\" class=\"colab-df-container\">\n",
              "    <div>\n",
              "<style scoped>\n",
              "    .dataframe tbody tr th:only-of-type {\n",
              "        vertical-align: middle;\n",
              "    }\n",
              "\n",
              "    .dataframe tbody tr th {\n",
              "        vertical-align: top;\n",
              "    }\n",
              "\n",
              "    .dataframe thead th {\n",
              "        text-align: right;\n",
              "    }\n",
              "</style>\n",
              "<table border=\"1\" class=\"dataframe\">\n",
              "  <thead>\n",
              "    <tr style=\"text-align: right;\">\n",
              "      <th></th>\n",
              "      <th>headline_text</th>\n",
              "      <th>index</th>\n",
              "    </tr>\n",
              "  </thead>\n",
              "  <tbody>\n",
              "    <tr>\n",
              "      <th>0</th>\n",
              "      <td>aba decides against community broadcasting lic...</td>\n",
              "      <td>0</td>\n",
              "    </tr>\n",
              "    <tr>\n",
              "      <th>1</th>\n",
              "      <td>act fire witnesses must be aware of defamation</td>\n",
              "      <td>1</td>\n",
              "    </tr>\n",
              "    <tr>\n",
              "      <th>2</th>\n",
              "      <td>a g calls for infrastructure protection summit</td>\n",
              "      <td>2</td>\n",
              "    </tr>\n",
              "    <tr>\n",
              "      <th>3</th>\n",
              "      <td>air nz staff in aust strike for pay rise</td>\n",
              "      <td>3</td>\n",
              "    </tr>\n",
              "    <tr>\n",
              "      <th>4</th>\n",
              "      <td>air nz strike to affect australian travellers</td>\n",
              "      <td>4</td>\n",
              "    </tr>\n",
              "  </tbody>\n",
              "</table>\n",
              "</div>\n",
              "    <div class=\"colab-df-buttons\">\n",
              "\n",
              "  <div class=\"colab-df-container\">\n",
              "    <button class=\"colab-df-convert\" onclick=\"convertToInteractive('df-231f38e3-26ff-4596-ba5d-8e8502b95af1')\"\n",
              "            title=\"Convert this dataframe to an interactive table.\"\n",
              "            style=\"display:none;\">\n",
              "\n",
              "  <svg xmlns=\"http://www.w3.org/2000/svg\" height=\"24px\" viewBox=\"0 -960 960 960\">\n",
              "    <path d=\"M120-120v-720h720v720H120Zm60-500h600v-160H180v160Zm220 220h160v-160H400v160Zm0 220h160v-160H400v160ZM180-400h160v-160H180v160Zm440 0h160v-160H620v160ZM180-180h160v-160H180v160Zm440 0h160v-160H620v160Z\"/>\n",
              "  </svg>\n",
              "    </button>\n",
              "\n",
              "  <style>\n",
              "    .colab-df-container {\n",
              "      display:flex;\n",
              "      gap: 12px;\n",
              "    }\n",
              "\n",
              "    .colab-df-convert {\n",
              "      background-color: #E8F0FE;\n",
              "      border: none;\n",
              "      border-radius: 50%;\n",
              "      cursor: pointer;\n",
              "      display: none;\n",
              "      fill: #1967D2;\n",
              "      height: 32px;\n",
              "      padding: 0 0 0 0;\n",
              "      width: 32px;\n",
              "    }\n",
              "\n",
              "    .colab-df-convert:hover {\n",
              "      background-color: #E2EBFA;\n",
              "      box-shadow: 0px 1px 2px rgba(60, 64, 67, 0.3), 0px 1px 3px 1px rgba(60, 64, 67, 0.15);\n",
              "      fill: #174EA6;\n",
              "    }\n",
              "\n",
              "    .colab-df-buttons div {\n",
              "      margin-bottom: 4px;\n",
              "    }\n",
              "\n",
              "    [theme=dark] .colab-df-convert {\n",
              "      background-color: #3B4455;\n",
              "      fill: #D2E3FC;\n",
              "    }\n",
              "\n",
              "    [theme=dark] .colab-df-convert:hover {\n",
              "      background-color: #434B5C;\n",
              "      box-shadow: 0px 1px 3px 1px rgba(0, 0, 0, 0.15);\n",
              "      filter: drop-shadow(0px 1px 2px rgba(0, 0, 0, 0.3));\n",
              "      fill: #FFFFFF;\n",
              "    }\n",
              "  </style>\n",
              "\n",
              "    <script>\n",
              "      const buttonEl =\n",
              "        document.querySelector('#df-231f38e3-26ff-4596-ba5d-8e8502b95af1 button.colab-df-convert');\n",
              "      buttonEl.style.display =\n",
              "        google.colab.kernel.accessAllowed ? 'block' : 'none';\n",
              "\n",
              "      async function convertToInteractive(key) {\n",
              "        const element = document.querySelector('#df-231f38e3-26ff-4596-ba5d-8e8502b95af1');\n",
              "        const dataTable =\n",
              "          await google.colab.kernel.invokeFunction('convertToInteractive',\n",
              "                                                    [key], {});\n",
              "        if (!dataTable) return;\n",
              "\n",
              "        const docLinkHtml = 'Like what you see? Visit the ' +\n",
              "          '<a target=\"_blank\" href=https://colab.research.google.com/notebooks/data_table.ipynb>data table notebook</a>'\n",
              "          + ' to learn more about interactive tables.';\n",
              "        element.innerHTML = '';\n",
              "        dataTable['output_type'] = 'display_data';\n",
              "        await google.colab.output.renderOutput(dataTable, element);\n",
              "        const docLink = document.createElement('div');\n",
              "        docLink.innerHTML = docLinkHtml;\n",
              "        element.appendChild(docLink);\n",
              "      }\n",
              "    </script>\n",
              "  </div>\n",
              "\n",
              "\n",
              "<div id=\"df-9a989cc2-76b9-4c30-8680-65d3d3393f80\">\n",
              "  <button class=\"colab-df-quickchart\" onclick=\"quickchart('df-9a989cc2-76b9-4c30-8680-65d3d3393f80')\"\n",
              "            title=\"Suggest charts\"\n",
              "            style=\"display:none;\">\n",
              "\n",
              "<svg xmlns=\"http://www.w3.org/2000/svg\" height=\"24px\"viewBox=\"0 0 24 24\"\n",
              "     width=\"24px\">\n",
              "    <g>\n",
              "        <path d=\"M19 3H5c-1.1 0-2 .9-2 2v14c0 1.1.9 2 2 2h14c1.1 0 2-.9 2-2V5c0-1.1-.9-2-2-2zM9 17H7v-7h2v7zm4 0h-2V7h2v10zm4 0h-2v-4h2v4z\"/>\n",
              "    </g>\n",
              "</svg>\n",
              "  </button>\n",
              "\n",
              "<style>\n",
              "  .colab-df-quickchart {\n",
              "      --bg-color: #E8F0FE;\n",
              "      --fill-color: #1967D2;\n",
              "      --hover-bg-color: #E2EBFA;\n",
              "      --hover-fill-color: #174EA6;\n",
              "      --disabled-fill-color: #AAA;\n",
              "      --disabled-bg-color: #DDD;\n",
              "  }\n",
              "\n",
              "  [theme=dark] .colab-df-quickchart {\n",
              "      --bg-color: #3B4455;\n",
              "      --fill-color: #D2E3FC;\n",
              "      --hover-bg-color: #434B5C;\n",
              "      --hover-fill-color: #FFFFFF;\n",
              "      --disabled-bg-color: #3B4455;\n",
              "      --disabled-fill-color: #666;\n",
              "  }\n",
              "\n",
              "  .colab-df-quickchart {\n",
              "    background-color: var(--bg-color);\n",
              "    border: none;\n",
              "    border-radius: 50%;\n",
              "    cursor: pointer;\n",
              "    display: none;\n",
              "    fill: var(--fill-color);\n",
              "    height: 32px;\n",
              "    padding: 0;\n",
              "    width: 32px;\n",
              "  }\n",
              "\n",
              "  .colab-df-quickchart:hover {\n",
              "    background-color: var(--hover-bg-color);\n",
              "    box-shadow: 0 1px 2px rgba(60, 64, 67, 0.3), 0 1px 3px 1px rgba(60, 64, 67, 0.15);\n",
              "    fill: var(--button-hover-fill-color);\n",
              "  }\n",
              "\n",
              "  .colab-df-quickchart-complete:disabled,\n",
              "  .colab-df-quickchart-complete:disabled:hover {\n",
              "    background-color: var(--disabled-bg-color);\n",
              "    fill: var(--disabled-fill-color);\n",
              "    box-shadow: none;\n",
              "  }\n",
              "\n",
              "  .colab-df-spinner {\n",
              "    border: 2px solid var(--fill-color);\n",
              "    border-color: transparent;\n",
              "    border-bottom-color: var(--fill-color);\n",
              "    animation:\n",
              "      spin 1s steps(1) infinite;\n",
              "  }\n",
              "\n",
              "  @keyframes spin {\n",
              "    0% {\n",
              "      border-color: transparent;\n",
              "      border-bottom-color: var(--fill-color);\n",
              "      border-left-color: var(--fill-color);\n",
              "    }\n",
              "    20% {\n",
              "      border-color: transparent;\n",
              "      border-left-color: var(--fill-color);\n",
              "      border-top-color: var(--fill-color);\n",
              "    }\n",
              "    30% {\n",
              "      border-color: transparent;\n",
              "      border-left-color: var(--fill-color);\n",
              "      border-top-color: var(--fill-color);\n",
              "      border-right-color: var(--fill-color);\n",
              "    }\n",
              "    40% {\n",
              "      border-color: transparent;\n",
              "      border-right-color: var(--fill-color);\n",
              "      border-top-color: var(--fill-color);\n",
              "    }\n",
              "    60% {\n",
              "      border-color: transparent;\n",
              "      border-right-color: var(--fill-color);\n",
              "    }\n",
              "    80% {\n",
              "      border-color: transparent;\n",
              "      border-right-color: var(--fill-color);\n",
              "      border-bottom-color: var(--fill-color);\n",
              "    }\n",
              "    90% {\n",
              "      border-color: transparent;\n",
              "      border-bottom-color: var(--fill-color);\n",
              "    }\n",
              "  }\n",
              "</style>\n",
              "\n",
              "  <script>\n",
              "    async function quickchart(key) {\n",
              "      const quickchartButtonEl =\n",
              "        document.querySelector('#' + key + ' button');\n",
              "      quickchartButtonEl.disabled = true;  // To prevent multiple clicks.\n",
              "      quickchartButtonEl.classList.add('colab-df-spinner');\n",
              "      try {\n",
              "        const charts = await google.colab.kernel.invokeFunction(\n",
              "            'suggestCharts', [key], {});\n",
              "      } catch (error) {\n",
              "        console.error('Error during call to suggestCharts:', error);\n",
              "      }\n",
              "      quickchartButtonEl.classList.remove('colab-df-spinner');\n",
              "      quickchartButtonEl.classList.add('colab-df-quickchart-complete');\n",
              "    }\n",
              "    (() => {\n",
              "      let quickchartButtonEl =\n",
              "        document.querySelector('#df-9a989cc2-76b9-4c30-8680-65d3d3393f80 button');\n",
              "      quickchartButtonEl.style.display =\n",
              "        google.colab.kernel.accessAllowed ? 'block' : 'none';\n",
              "    })();\n",
              "  </script>\n",
              "</div>\n",
              "\n",
              "    </div>\n",
              "  </div>\n"
            ],
            "application/vnd.google.colaboratory.intrinsic+json": {
              "type": "dataframe",
              "summary": "{\n  \"name\": \"documents[:5]\",\n  \"rows\": 5,\n  \"fields\": [\n    {\n      \"column\": \"headline_text\",\n      \"properties\": {\n        \"dtype\": \"string\",\n        \"num_unique_values\": 5,\n        \"samples\": [\n          \"act fire witnesses must be aware of defamation\",\n          \"air nz strike to affect australian travellers\",\n          \"a g calls for infrastructure protection summit\"\n        ],\n        \"semantic_type\": \"\",\n        \"description\": \"\"\n      }\n    },\n    {\n      \"column\": \"index\",\n      \"properties\": {\n        \"dtype\": \"number\",\n        \"std\": 1,\n        \"min\": 0,\n        \"max\": 4,\n        \"num_unique_values\": 5,\n        \"samples\": [\n          1,\n          4,\n          2\n        ],\n        \"semantic_type\": \"\",\n        \"description\": \"\"\n      }\n    }\n  ]\n}"
            }
          },
          "metadata": {},
          "execution_count": 3
        }
      ]
    },
    {
      "cell_type": "markdown",
      "source": [
        "#Data Preprocessing"
      ],
      "metadata": {
        "id": "3SFnbmpFUJRD"
      }
    },
    {
      "cell_type": "code",
      "source": [
        "import gensim\n",
        "from gensim.utils import simple_preprocess\n",
        "from gensim.parsing.preprocessing import STOPWORDS\n",
        "from nltk.stem import WordNetLemmatizer, SnowballStemmer\n",
        "from nltk.stem.porter import *\n",
        "import numpy as np\n",
        "np.random.seed(400)"
      ],
      "metadata": {
        "id": "9XJzTohxULDX"
      },
      "execution_count": null,
      "outputs": []
    },
    {
      "cell_type": "code",
      "source": [
        "stemmer = SnowballStemmer(\"english\")\n",
        "\n",
        "import nltk\n",
        "nltk.download('wordnet')\n",
        "\n",
        "def lemmatize_stemming(text):\n",
        "    return stemmer.stem(WordNetLemmatizer().lemmatize(text, pos='v'))\n",
        "\n",
        "# Tokenize and lemmatize\n",
        "def preprocess(text):\n",
        "    result=[]\n",
        "    for token in gensim.utils.simple_preprocess(text) :\n",
        "        if token not in gensim.parsing.preprocessing.STOPWORDS and len(token) > 3:\n",
        "            # TODO: Apply lemmatize_stemming on the token, then add to the results list\n",
        "            result.append(lemmatize_stemming(token))\n",
        "    return result"
      ],
      "metadata": {
        "colab": {
          "base_uri": "https://localhost:8080/"
        },
        "id": "l9NK6HMKUN-4",
        "outputId": "b1370197-e970-4ba1-9146-bb6dab0e39b3"
      },
      "execution_count": null,
      "outputs": [
        {
          "output_type": "stream",
          "name": "stderr",
          "text": [
            "[nltk_data] Downloading package wordnet to /root/nltk_data...\n"
          ]
        }
      ]
    },
    {
      "cell_type": "markdown",
      "source": [
        "##For one document"
      ],
      "metadata": {
        "id": "Ob2hfpfXUaxj"
      }
    },
    {
      "cell_type": "code",
      "source": [
        "document_num = 4310\n",
        "doc_sample = documents[documents['index'] == document_num].values[0][0]\n",
        "\n",
        "print(\"Original document: \")\n",
        "words = []\n",
        "for word in doc_sample.split(' '):\n",
        "    words.append(word)\n",
        "print(words)\n",
        "print(\"\\n\\nTokenized and lemmatized document: \")\n",
        "print(preprocess(doc_sample))"
      ],
      "metadata": {
        "colab": {
          "base_uri": "https://localhost:8080/"
        },
        "id": "6q9UEg9gUb02",
        "outputId": "5651efa0-f89d-4232-ae69-05addc475125"
      },
      "execution_count": null,
      "outputs": [
        {
          "output_type": "stream",
          "name": "stdout",
          "text": [
            "Original document: \n",
            "['rain', 'helps', 'dampen', 'bushfires']\n",
            "\n",
            "\n",
            "Tokenized and lemmatized document: \n",
            "['rain', 'help', 'dampen', 'bushfir']\n"
          ]
        }
      ]
    },
    {
      "cell_type": "markdown",
      "source": [
        "##To all"
      ],
      "metadata": {
        "id": "wcW4Mu26Uynr"
      }
    },
    {
      "cell_type": "code",
      "source": [
        "processed_docs = documents['headline_text'].map(preprocess)"
      ],
      "metadata": {
        "id": "mViTIhXXUzp_"
      },
      "execution_count": null,
      "outputs": []
    },
    {
      "cell_type": "markdown",
      "source": [
        "#BOW"
      ],
      "metadata": {
        "id": "zqe_kTFwU26Y"
      }
    },
    {
      "cell_type": "code",
      "source": [
        "'''\n",
        "Create a dictionary from 'processed_docs' containing the number of times a word appears\n",
        "in the training set using gensim.corpora.Dictionary and call it 'dictionary'\n",
        "'''\n",
        "dictionary = gensim.corpora.Dictionary(processed_docs)\n",
        "\n",
        "'''\n",
        "Checking dictionary created\n",
        "'''\n",
        "count = 0\n",
        "for k, v in dictionary.iteritems():\n",
        "    print(k, v)\n",
        "    count += 1\n",
        "    if count > 10:\n",
        "        break"
      ],
      "metadata": {
        "colab": {
          "base_uri": "https://localhost:8080/"
        },
        "id": "0-J5hiGyU3p0",
        "outputId": "c7f9881c-4d33-407c-a993-17b95322dce7"
      },
      "execution_count": null,
      "outputs": [
        {
          "output_type": "stream",
          "name": "stdout",
          "text": [
            "0 broadcast\n",
            "1 communiti\n",
            "2 decid\n",
            "3 licenc\n",
            "4 awar\n",
            "5 defam\n",
            "6 wit\n",
            "7 call\n",
            "8 infrastructur\n",
            "9 protect\n",
            "10 summit\n"
          ]
        }
      ]
    },
    {
      "cell_type": "code",
      "source": [
        "'''\n",
        "Remove very rare and very common words:\n",
        "\n",
        "- words appearing less than 15 times\n",
        "- words appearing in more than 10% of all documents\n",
        "'''\n",
        "\n",
        "dictionary.filter_extremes(no_below=15, no_above=0.1, keep_n=100000)"
      ],
      "metadata": {
        "id": "eoLbG2EYU_c7"
      },
      "execution_count": null,
      "outputs": []
    },
    {
      "cell_type": "code",
      "source": [
        "'''\n",
        "Create the Bag-of-words model for each document i.e for each document we create a dictionary reporting how many\n",
        "words and how many times those words appear. Save this to 'bow_corpus'\n",
        "'''\n",
        "bow_corpus = [dictionary.doc2bow(doc) for doc in processed_docs]"
      ],
      "metadata": {
        "id": "Vg9qVgS1VG5Y"
      },
      "execution_count": null,
      "outputs": []
    },
    {
      "cell_type": "markdown",
      "source": [
        "##Check for one document"
      ],
      "metadata": {
        "id": "5QPybnVtVSAY"
      }
    },
    {
      "cell_type": "code",
      "source": [
        "'''\n",
        "Checking Bag of Words corpus for our sample document --> (token_id, token_count)\n",
        "'''\n",
        "bow_corpus[document_num] #4310"
      ],
      "metadata": {
        "colab": {
          "base_uri": "https://localhost:8080/"
        },
        "id": "qy1ONSZVVHc9",
        "outputId": "c2dcddfa-ee1e-44ee-8884-d339619e221a"
      },
      "execution_count": null,
      "outputs": [
        {
          "output_type": "execute_result",
          "data": {
            "text/plain": [
              "[(71, 1), (107, 1), (462, 1), (3530, 1)]"
            ]
          },
          "metadata": {},
          "execution_count": 15
        }
      ]
    },
    {
      "cell_type": "markdown",
      "source": [
        "#TFIDF"
      ],
      "metadata": {
        "id": "BTP9nDFIVXr2"
      }
    },
    {
      "cell_type": "code",
      "source": [
        "from gensim import corpora, models\n",
        "#tfidf = # TODO\n",
        "tfidf = models.TfidfModel(bow_corpus)\n",
        "\n",
        "'''\n",
        "Apply transformation to the entire corpus and call it 'corpus_tfidf'\n",
        "'''\n",
        "#corpus_tfidf = # TODO\n",
        "corpus_tfidf = tfidf[bow_corpus]"
      ],
      "metadata": {
        "id": "oy4ns7c7VY6r"
      },
      "execution_count": null,
      "outputs": []
    },
    {
      "cell_type": "code",
      "source": [
        "'''\n",
        "Preview TF-IDF scores for our first document --> --> (token_id, tfidf score)\n",
        "'''\n",
        "from pprint import pprint\n",
        "for doc in corpus_tfidf:\n",
        "    pprint(doc)\n",
        "    break"
      ],
      "metadata": {
        "colab": {
          "base_uri": "https://localhost:8080/"
        },
        "id": "VDUQ_aqsVclP",
        "outputId": "fd1de55e-7dd3-46ef-a64b-ae76a4cce479"
      },
      "execution_count": null,
      "outputs": [
        {
          "output_type": "stream",
          "name": "stdout",
          "text": [
            "[(0, 0.5959813347777092),\n",
            " (1, 0.39204529549491984),\n",
            " (2, 0.48531419274988147),\n",
            " (3, 0.5055461098578569)]\n"
          ]
        }
      ]
    },
    {
      "cell_type": "markdown",
      "source": [
        "#LDA with BOW"
      ],
      "metadata": {
        "id": "Uqc2OKtIVimT"
      }
    },
    {
      "cell_type": "code",
      "source": [
        "lda_model = gensim.models.LdaMulticore(bow_corpus,\n",
        "                                       num_topics=10,\n",
        "                                       id2word = dictionary,\n",
        "                                       passes = 2,\n",
        "                                       workers=2)"
      ],
      "metadata": {
        "id": "TncCNvN7VjTI"
      },
      "execution_count": null,
      "outputs": []
    },
    {
      "cell_type": "code",
      "source": [
        "for idx, topic in lda_model.print_topics(-1):\n",
        "    print(\"Topic: {} \\nWords: {}\".format(idx, topic))\n",
        "    print(\"\\n\")"
      ],
      "metadata": {
        "colab": {
          "base_uri": "https://localhost:8080/"
        },
        "id": "uDYFTnuFVnQy",
        "outputId": "8623c702-be82-486f-a9e1-99d67bb2e584"
      },
      "execution_count": null,
      "outputs": [
        {
          "output_type": "stream",
          "name": "stdout",
          "text": [
            "Topic: 0 \n",
            "Words: 0.021*\"test\" + 0.020*\"lead\" + 0.018*\"world\" + 0.017*\"win\" + 0.016*\"take\" + 0.012*\"aussi\" + 0.012*\"action\" + 0.011*\"strike\" + 0.010*\"clash\" + 0.010*\"blue\"\n",
            "\n",
            "\n",
            "Topic: 1 \n",
            "Words: 0.026*\"boost\" + 0.023*\"health\" + 0.020*\"servic\" + 0.016*\"work\" + 0.016*\"opposit\" + 0.012*\"drug\" + 0.012*\"call\" + 0.011*\"farm\" + 0.011*\"hear\" + 0.011*\"timor\"\n",
            "\n",
            "\n",
            "Topic: 2 \n",
            "Words: 0.018*\"home\" + 0.017*\"return\" + 0.016*\"blaze\" + 0.016*\"concern\" + 0.015*\"nuclear\" + 0.014*\"hold\" + 0.013*\"delay\" + 0.013*\"storm\" + 0.012*\"firefight\" + 0.011*\"power\"\n",
            "\n",
            "\n",
            "Topic: 3 \n",
            "Words: 0.078*\"polic\" + 0.035*\"crash\" + 0.026*\"investig\" + 0.025*\"miss\" + 0.020*\"australia\" + 0.018*\"open\" + 0.017*\"search\" + 0.016*\"die\" + 0.016*\"probe\" + 0.015*\"driver\"\n",
            "\n",
            "\n",
            "Topic: 4 \n",
            "Words: 0.052*\"water\" + 0.022*\"hospit\" + 0.016*\"resid\" + 0.013*\"farmer\" + 0.012*\"drought\" + 0.012*\"plan\" + 0.012*\"rain\" + 0.012*\"park\" + 0.012*\"expect\" + 0.009*\"flood\"\n",
            "\n",
            "\n",
            "Topic: 5 \n",
            "Words: 0.042*\"charg\" + 0.033*\"face\" + 0.029*\"court\" + 0.021*\"murder\" + 0.018*\"polic\" + 0.017*\"record\" + 0.015*\"death\" + 0.014*\"teen\" + 0.013*\"assault\" + 0.010*\"trial\"\n",
            "\n",
            "\n",
            "Topic: 6 \n",
            "Words: 0.071*\"govt\" + 0.042*\"urg\" + 0.024*\"fund\" + 0.019*\"help\" + 0.015*\"school\" + 0.013*\"accus\" + 0.010*\"appeal\" + 0.010*\"decis\" + 0.010*\"time\" + 0.010*\"plan\"\n",
            "\n",
            "\n",
            "Topic: 7 \n",
            "Words: 0.031*\"kill\" + 0.027*\"iraq\" + 0.027*\"attack\" + 0.016*\"howard\" + 0.015*\"year\" + 0.014*\"bomb\" + 0.014*\"troop\" + 0.013*\"leader\" + 0.012*\"aust\" + 0.011*\"futur\"\n",
            "\n",
            "\n",
            "Topic: 8 \n",
            "Words: 0.047*\"council\" + 0.030*\"plan\" + 0.023*\"chang\" + 0.016*\"back\" + 0.016*\"meet\" + 0.013*\"mayor\" + 0.013*\"break\" + 0.013*\"green\" + 0.012*\"elect\" + 0.011*\"develop\"\n",
            "\n",
            "\n",
            "Topic: 9 \n",
            "Words: 0.021*\"closer\" + 0.020*\"worker\" + 0.018*\"warn\" + 0.014*\"market\" + 0.013*\"england\" + 0.012*\"sale\" + 0.011*\"union\" + 0.010*\"crew\" + 0.009*\"say\" + 0.009*\"labor\"\n",
            "\n",
            "\n"
          ]
        }
      ]
    },
    {
      "cell_type": "markdown",
      "source": [
        "#LDA with TFIDF"
      ],
      "metadata": {
        "id": "ZYIHvlk6Vpkn"
      }
    },
    {
      "cell_type": "code",
      "source": [
        "lda_model_tfidf = gensim.models.LdaMulticore(corpus_tfidf,\n",
        "                                             num_topics=10,\n",
        "                                             id2word = dictionary,\n",
        "                                             passes = 2,\n",
        "                                             workers=4)"
      ],
      "metadata": {
        "id": "25QcjA_aVq6X"
      },
      "execution_count": null,
      "outputs": []
    },
    {
      "cell_type": "code",
      "source": [
        "for idx, topic in lda_model_tfidf.print_topics(-1):\n",
        "    print(\"Topic: {} Word: {}\".format(idx, topic))\n",
        "    print(\"\\n\")"
      ],
      "metadata": {
        "colab": {
          "base_uri": "https://localhost:8080/"
        },
        "id": "YXaRJtImVsZN",
        "outputId": "4256225c-cd18-4f00-d784-3a11991e447b"
      },
      "execution_count": null,
      "outputs": [
        {
          "output_type": "stream",
          "name": "stdout",
          "text": [
            "Topic: 0 Word: 0.012*\"search\" + 0.012*\"miss\" + 0.006*\"bodi\" + 0.006*\"upgrad\" + 0.006*\"qanta\" + 0.005*\"afghanistan\" + 0.005*\"hobart\" + 0.005*\"growth\" + 0.005*\"polic\" + 0.005*\"continu\"\n",
            "\n",
            "\n",
            "Topic: 1 Word: 0.006*\"bail\" + 0.006*\"lebanon\" + 0.006*\"bali\" + 0.006*\"light\" + 0.005*\"plan\" + 0.005*\"govt\" + 0.005*\"prison\" + 0.005*\"revamp\" + 0.005*\"compo\" + 0.005*\"council\"\n",
            "\n",
            "\n",
            "Topic: 2 Word: 0.008*\"water\" + 0.007*\"england\" + 0.007*\"rudd\" + 0.006*\"restrict\" + 0.006*\"open\" + 0.006*\"final\" + 0.005*\"suppli\" + 0.005*\"socceroo\" + 0.004*\"lion\" + 0.004*\"central\"\n",
            "\n",
            "\n",
            "Topic: 3 Word: 0.007*\"illeg\" + 0.006*\"name\" + 0.005*\"blue\" + 0.005*\"test\" + 0.005*\"pont\" + 0.005*\"aussi\" + 0.005*\"pipelin\" + 0.005*\"elder\" + 0.005*\"wallabi\" + 0.005*\"australia\"\n",
            "\n",
            "\n",
            "Topic: 4 Word: 0.022*\"polic\" + 0.020*\"charg\" + 0.015*\"kill\" + 0.014*\"murder\" + 0.013*\"court\" + 0.010*\"arrest\" + 0.010*\"jail\" + 0.010*\"attack\" + 0.010*\"face\" + 0.010*\"bomb\"\n",
            "\n",
            "\n",
            "Topic: 5 Word: 0.007*\"water\" + 0.006*\"murray\" + 0.006*\"bird\" + 0.006*\"clean\" + 0.005*\"river\" + 0.005*\"petrol\" + 0.005*\"govt\" + 0.005*\"dump\" + 0.005*\"wast\" + 0.005*\"plan\"\n",
            "\n",
            "\n",
            "Topic: 6 Word: 0.028*\"closer\" + 0.008*\"east\" + 0.007*\"south\" + 0.007*\"rate\" + 0.007*\"rise\" + 0.006*\"timor\" + 0.006*\"north\" + 0.006*\"west\" + 0.006*\"israel\" + 0.005*\"palestinian\"\n",
            "\n",
            "\n",
            "Topic: 7 Word: 0.014*\"govt\" + 0.010*\"urg\" + 0.009*\"plan\" + 0.009*\"health\" + 0.009*\"fund\" + 0.008*\"opposit\" + 0.007*\"labor\" + 0.007*\"council\" + 0.007*\"group\" + 0.007*\"indigen\"\n",
            "\n",
            "\n",
            "Topic: 8 Word: 0.022*\"crash\" + 0.012*\"die\" + 0.011*\"blaze\" + 0.011*\"road\" + 0.009*\"firefight\" + 0.009*\"polic\" + 0.009*\"accid\" + 0.007*\"flood\" + 0.007*\"fatal\" + 0.007*\"investig\"\n",
            "\n",
            "\n",
            "Topic: 9 Word: 0.009*\"break\" + 0.008*\"drought\" + 0.008*\"indonesian\" + 0.007*\"gold\" + 0.007*\"hick\" + 0.007*\"hill\" + 0.006*\"climat\" + 0.006*\"violenc\" + 0.006*\"coast\" + 0.005*\"relief\"\n",
            "\n",
            "\n"
          ]
        }
      ]
    },
    {
      "cell_type": "markdown",
      "source": [
        "#Score"
      ],
      "metadata": {
        "id": "P_R0ZrRXVy4I"
      }
    },
    {
      "cell_type": "code",
      "source": [
        "processed_docs[4310]"
      ],
      "metadata": {
        "colab": {
          "base_uri": "https://localhost:8080/"
        },
        "id": "rWaUZqgkV0U9",
        "outputId": "2565691d-d982-43ae-c687-d56d7835f6f8"
      },
      "execution_count": null,
      "outputs": [
        {
          "output_type": "execute_result",
          "data": {
            "text/plain": [
              "['rain', 'help', 'dampen', 'bushfir']"
            ]
          },
          "metadata": {},
          "execution_count": 24
        }
      ]
    },
    {
      "cell_type": "code",
      "source": [
        "# Our test document is document number 4310\n",
        "for index, score in sorted(lda_model[bow_corpus[document_num]], key=lambda tup: -1*tup[1]):\n",
        "    print(\"\\nScore: {}\\t \\nTopic: {}\".format(score, lda_model.print_topic(index, 10)))"
      ],
      "metadata": {
        "colab": {
          "base_uri": "https://localhost:8080/"
        },
        "id": "J7oLaRHLVzjW",
        "outputId": "94ab0cc5-dbe1-4472-91e2-1d5e21b20816"
      },
      "execution_count": null,
      "outputs": [
        {
          "output_type": "stream",
          "name": "stdout",
          "text": [
            "\n",
            "Score: 0.48278704285621643\t \n",
            "Topic: 0.052*\"water\" + 0.022*\"hospit\" + 0.016*\"resid\" + 0.013*\"farmer\" + 0.012*\"drought\" + 0.012*\"plan\" + 0.012*\"rain\" + 0.012*\"park\" + 0.012*\"expect\" + 0.009*\"flood\"\n",
            "\n",
            "Score: 0.2200203835964203\t \n",
            "Topic: 0.018*\"home\" + 0.017*\"return\" + 0.016*\"blaze\" + 0.016*\"concern\" + 0.015*\"nuclear\" + 0.014*\"hold\" + 0.013*\"delay\" + 0.013*\"storm\" + 0.012*\"firefight\" + 0.011*\"power\"\n",
            "\n",
            "Score: 0.1571703553199768\t \n",
            "Topic: 0.071*\"govt\" + 0.042*\"urg\" + 0.024*\"fund\" + 0.019*\"help\" + 0.015*\"school\" + 0.013*\"accus\" + 0.010*\"appeal\" + 0.010*\"decis\" + 0.010*\"time\" + 0.010*\"plan\"\n",
            "\n",
            "Score: 0.020003188401460648\t \n",
            "Topic: 0.026*\"boost\" + 0.023*\"health\" + 0.020*\"servic\" + 0.016*\"work\" + 0.016*\"opposit\" + 0.012*\"drug\" + 0.012*\"call\" + 0.011*\"farm\" + 0.011*\"hear\" + 0.011*\"timor\"\n",
            "\n",
            "Score: 0.020003177225589752\t \n",
            "Topic: 0.078*\"polic\" + 0.035*\"crash\" + 0.026*\"investig\" + 0.025*\"miss\" + 0.020*\"australia\" + 0.018*\"open\" + 0.017*\"search\" + 0.016*\"die\" + 0.016*\"probe\" + 0.015*\"driver\"\n",
            "\n",
            "Score: 0.020003173500299454\t \n",
            "Topic: 0.021*\"closer\" + 0.020*\"worker\" + 0.018*\"warn\" + 0.014*\"market\" + 0.013*\"england\" + 0.012*\"sale\" + 0.011*\"union\" + 0.010*\"crew\" + 0.009*\"say\" + 0.009*\"labor\"\n",
            "\n",
            "Score: 0.020003169775009155\t \n",
            "Topic: 0.021*\"test\" + 0.020*\"lead\" + 0.018*\"world\" + 0.017*\"win\" + 0.016*\"take\" + 0.012*\"aussi\" + 0.012*\"action\" + 0.011*\"strike\" + 0.010*\"clash\" + 0.010*\"blue\"\n",
            "\n",
            "Score: 0.020003169775009155\t \n",
            "Topic: 0.042*\"charg\" + 0.033*\"face\" + 0.029*\"court\" + 0.021*\"murder\" + 0.018*\"polic\" + 0.017*\"record\" + 0.015*\"death\" + 0.014*\"teen\" + 0.013*\"assault\" + 0.010*\"trial\"\n",
            "\n",
            "Score: 0.020003169775009155\t \n",
            "Topic: 0.031*\"kill\" + 0.027*\"iraq\" + 0.027*\"attack\" + 0.016*\"howard\" + 0.015*\"year\" + 0.014*\"bomb\" + 0.014*\"troop\" + 0.013*\"leader\" + 0.012*\"aust\" + 0.011*\"futur\"\n",
            "\n",
            "Score: 0.020003169775009155\t \n",
            "Topic: 0.047*\"council\" + 0.030*\"plan\" + 0.023*\"chang\" + 0.016*\"back\" + 0.016*\"meet\" + 0.013*\"mayor\" + 0.013*\"break\" + 0.013*\"green\" + 0.012*\"elect\" + 0.011*\"develop\"\n"
          ]
        }
      ]
    },
    {
      "cell_type": "code",
      "source": [
        "for index, score in sorted(lda_model_tfidf[bow_corpus[document_num]], key=lambda tup: -1*tup[1]):\n",
        "    print(\"\\nScore: {}\\t \\nTopic: {}\".format(score, lda_model_tfidf.print_topic(index, 10)))"
      ],
      "metadata": {
        "colab": {
          "base_uri": "https://localhost:8080/"
        },
        "id": "XR86w_TWV4x9",
        "outputId": "f6328316-5d13-46cd-cee5-10a4667c9690"
      },
      "execution_count": null,
      "outputs": [
        {
          "output_type": "stream",
          "name": "stdout",
          "text": [
            "\n",
            "Score: 0.5864159464836121\t \n",
            "Topic: 0.009*\"break\" + 0.008*\"drought\" + 0.008*\"indonesian\" + 0.007*\"gold\" + 0.007*\"hick\" + 0.007*\"hill\" + 0.006*\"climat\" + 0.006*\"violenc\" + 0.006*\"coast\" + 0.005*\"relief\"\n",
            "\n",
            "Score: 0.25354084372520447\t \n",
            "Topic: 0.007*\"water\" + 0.006*\"murray\" + 0.006*\"bird\" + 0.006*\"clean\" + 0.005*\"river\" + 0.005*\"petrol\" + 0.005*\"govt\" + 0.005*\"dump\" + 0.005*\"wast\" + 0.005*\"plan\"\n",
            "\n",
            "Score: 0.020008277148008347\t \n",
            "Topic: 0.022*\"crash\" + 0.012*\"die\" + 0.011*\"blaze\" + 0.011*\"road\" + 0.009*\"firefight\" + 0.009*\"polic\" + 0.009*\"accid\" + 0.007*\"flood\" + 0.007*\"fatal\" + 0.007*\"investig\"\n",
            "\n",
            "Score: 0.020006973296403885\t \n",
            "Topic: 0.008*\"water\" + 0.007*\"england\" + 0.007*\"rudd\" + 0.006*\"restrict\" + 0.006*\"open\" + 0.006*\"final\" + 0.005*\"suppli\" + 0.005*\"socceroo\" + 0.004*\"lion\" + 0.004*\"central\"\n",
            "\n",
            "Score: 0.020005488768219948\t \n",
            "Topic: 0.014*\"govt\" + 0.010*\"urg\" + 0.009*\"plan\" + 0.009*\"health\" + 0.009*\"fund\" + 0.008*\"opposit\" + 0.007*\"labor\" + 0.007*\"council\" + 0.007*\"group\" + 0.007*\"indigen\"\n",
            "\n",
            "Score: 0.02000528573989868\t \n",
            "Topic: 0.028*\"closer\" + 0.008*\"east\" + 0.007*\"south\" + 0.007*\"rate\" + 0.007*\"rise\" + 0.006*\"timor\" + 0.006*\"north\" + 0.006*\"west\" + 0.006*\"israel\" + 0.005*\"palestinian\"\n",
            "\n",
            "Score: 0.020004913210868835\t \n",
            "Topic: 0.012*\"search\" + 0.012*\"miss\" + 0.006*\"bodi\" + 0.006*\"upgrad\" + 0.006*\"qanta\" + 0.005*\"afghanistan\" + 0.005*\"hobart\" + 0.005*\"growth\" + 0.005*\"polic\" + 0.005*\"continu\"\n",
            "\n",
            "Score: 0.02000475861132145\t \n",
            "Topic: 0.006*\"bail\" + 0.006*\"lebanon\" + 0.006*\"bali\" + 0.006*\"light\" + 0.005*\"plan\" + 0.005*\"govt\" + 0.005*\"prison\" + 0.005*\"revamp\" + 0.005*\"compo\" + 0.005*\"council\"\n",
            "\n",
            "Score: 0.020004069432616234\t \n",
            "Topic: 0.022*\"polic\" + 0.020*\"charg\" + 0.015*\"kill\" + 0.014*\"murder\" + 0.013*\"court\" + 0.010*\"arrest\" + 0.010*\"jail\" + 0.010*\"attack\" + 0.010*\"face\" + 0.010*\"bomb\"\n",
            "\n",
            "Score: 0.020003458485007286\t \n",
            "Topic: 0.007*\"illeg\" + 0.006*\"name\" + 0.005*\"blue\" + 0.005*\"test\" + 0.005*\"pont\" + 0.005*\"aussi\" + 0.005*\"pipelin\" + 0.005*\"elder\" + 0.005*\"wallabi\" + 0.005*\"australia\"\n"
          ]
        }
      ]
    },
    {
      "cell_type": "markdown",
      "source": [
        "#Testing model on unseen document"
      ],
      "metadata": {
        "id": "BkPmt8P1V7JX"
      }
    },
    {
      "cell_type": "code",
      "source": [
        "unseen_document = \"My favorite sports activities are running and swimming.\"\n",
        "\n",
        "bow_vector = dictionary.doc2bow(preprocess(unseen_document))\n",
        "\n",
        "for index, score in sorted(lda_model[bow_vector], key=lambda tup: -1*tup[1]):\n",
        "    print(\"Score: {}\\t Topic: {}\".format(score, lda_model.print_topic(index, 5)))"
      ],
      "metadata": {
        "colab": {
          "base_uri": "https://localhost:8080/"
        },
        "id": "iMTfHrVHV7lK",
        "outputId": "9c6e7c64-216e-4138-e750-b5115a6d905a"
      },
      "execution_count": null,
      "outputs": [
        {
          "output_type": "stream",
          "name": "stdout",
          "text": [
            "Score: 0.2203076332807541\t Topic: 0.021*\"test\" + 0.020*\"lead\" + 0.018*\"world\" + 0.017*\"win\" + 0.016*\"take\"\n",
            "Score: 0.21998444199562073\t Topic: 0.042*\"charg\" + 0.033*\"face\" + 0.029*\"court\" + 0.021*\"murder\" + 0.018*\"polic\"\n",
            "Score: 0.21994270384311676\t Topic: 0.026*\"boost\" + 0.023*\"health\" + 0.020*\"servic\" + 0.016*\"work\" + 0.016*\"opposit\"\n",
            "Score: 0.21972128748893738\t Topic: 0.052*\"water\" + 0.022*\"hospit\" + 0.016*\"resid\" + 0.013*\"farmer\" + 0.012*\"drought\"\n",
            "Score: 0.02001159079372883\t Topic: 0.071*\"govt\" + 0.042*\"urg\" + 0.024*\"fund\" + 0.019*\"help\" + 0.015*\"school\"\n",
            "Score: 0.020006462931632996\t Topic: 0.018*\"home\" + 0.017*\"return\" + 0.016*\"blaze\" + 0.016*\"concern\" + 0.015*\"nuclear\"\n",
            "Score: 0.020006462931632996\t Topic: 0.078*\"polic\" + 0.035*\"crash\" + 0.026*\"investig\" + 0.025*\"miss\" + 0.020*\"australia\"\n",
            "Score: 0.020006462931632996\t Topic: 0.031*\"kill\" + 0.027*\"iraq\" + 0.027*\"attack\" + 0.016*\"howard\" + 0.015*\"year\"\n",
            "Score: 0.020006462931632996\t Topic: 0.047*\"council\" + 0.030*\"plan\" + 0.023*\"chang\" + 0.016*\"back\" + 0.016*\"meet\"\n",
            "Score: 0.020006462931632996\t Topic: 0.021*\"closer\" + 0.020*\"worker\" + 0.018*\"warn\" + 0.014*\"market\" + 0.013*\"england\"\n"
          ]
        }
      ]
    }
  ]
}