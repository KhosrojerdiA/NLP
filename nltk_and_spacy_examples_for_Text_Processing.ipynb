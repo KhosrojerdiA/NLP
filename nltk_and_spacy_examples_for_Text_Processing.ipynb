{
  "nbformat": 4,
  "nbformat_minor": 0,
  "metadata": {
    "colab": {
      "provenance": [],
      "toc_visible": true,
      "authorship_tag": "ABX9TyOv5ytTj/YTiZMt3qGC9ITM",
      "include_colab_link": true
    },
    "kernelspec": {
      "name": "python3",
      "display_name": "Python 3"
    },
    "language_info": {
      "name": "python"
    }
  },
  "cells": [
    {
      "cell_type": "markdown",
      "metadata": {
        "id": "view-in-github",
        "colab_type": "text"
      },
      "source": [
        "<a href=\"https://colab.research.google.com/github/KhosrojerdiA/NLP/blob/main/nltk_and_spacy_examples_for_Text_Processing.ipynb\" target=\"_parent\"><img src=\"https://colab.research.google.com/assets/colab-badge.svg\" alt=\"Open In Colab\"/></a>"
      ]
    },
    {
      "cell_type": "code",
      "execution_count": null,
      "metadata": {
        "id": "Q1QID69Hbi37"
      },
      "outputs": [],
      "source": [
        "import pandas as pd"
      ]
    },
    {
      "cell_type": "markdown",
      "source": [
        "#Data"
      ],
      "metadata": {
        "id": "OORmf4PYZjPu"
      }
    },
    {
      "cell_type": "code",
      "source": [
        "text = pd.read_csv('elon_musk.csv',encoding='cp1252')\n",
        "text.head()"
      ],
      "metadata": {
        "colab": {
          "base_uri": "https://localhost:8080/",
          "height": 206
        },
        "id": "Yg8NODXxbzYZ",
        "outputId": "0ec870b6-f31f-406f-98b5-88169bb16293"
      },
      "execution_count": null,
      "outputs": [
        {
          "output_type": "execute_result",
          "data": {
            "text/plain": [
              "                                                Text\n",
              "0            https://en.wikipedia.org/wiki/Elon_Musk\n",
              "1  Elon Reeve Musk FRS (/?i?l?n/ EE-lon; born Jun...\n",
              "2  Musk was born to a Canadian mother and White S...\n",
              "3  In 2002, Musk founded SpaceX, an aerospace man...\n",
              "4  Musk has been criticized for making unscientif..."
            ],
            "text/html": [
              "\n",
              "  <div id=\"df-5286aedb-ed10-48e6-8c72-bd4190c5138b\" class=\"colab-df-container\">\n",
              "    <div>\n",
              "<style scoped>\n",
              "    .dataframe tbody tr th:only-of-type {\n",
              "        vertical-align: middle;\n",
              "    }\n",
              "\n",
              "    .dataframe tbody tr th {\n",
              "        vertical-align: top;\n",
              "    }\n",
              "\n",
              "    .dataframe thead th {\n",
              "        text-align: right;\n",
              "    }\n",
              "</style>\n",
              "<table border=\"1\" class=\"dataframe\">\n",
              "  <thead>\n",
              "    <tr style=\"text-align: right;\">\n",
              "      <th></th>\n",
              "      <th>Text</th>\n",
              "    </tr>\n",
              "  </thead>\n",
              "  <tbody>\n",
              "    <tr>\n",
              "      <th>0</th>\n",
              "      <td>https://en.wikipedia.org/wiki/Elon_Musk</td>\n",
              "    </tr>\n",
              "    <tr>\n",
              "      <th>1</th>\n",
              "      <td>Elon Reeve Musk FRS (/?i?l?n/ EE-lon; born Jun...</td>\n",
              "    </tr>\n",
              "    <tr>\n",
              "      <th>2</th>\n",
              "      <td>Musk was born to a Canadian mother and White S...</td>\n",
              "    </tr>\n",
              "    <tr>\n",
              "      <th>3</th>\n",
              "      <td>In 2002, Musk founded SpaceX, an aerospace man...</td>\n",
              "    </tr>\n",
              "    <tr>\n",
              "      <th>4</th>\n",
              "      <td>Musk has been criticized for making unscientif...</td>\n",
              "    </tr>\n",
              "  </tbody>\n",
              "</table>\n",
              "</div>\n",
              "    <div class=\"colab-df-buttons\">\n",
              "\n",
              "  <div class=\"colab-df-container\">\n",
              "    <button class=\"colab-df-convert\" onclick=\"convertToInteractive('df-5286aedb-ed10-48e6-8c72-bd4190c5138b')\"\n",
              "            title=\"Convert this dataframe to an interactive table.\"\n",
              "            style=\"display:none;\">\n",
              "\n",
              "  <svg xmlns=\"http://www.w3.org/2000/svg\" height=\"24px\" viewBox=\"0 -960 960 960\">\n",
              "    <path d=\"M120-120v-720h720v720H120Zm60-500h600v-160H180v160Zm220 220h160v-160H400v160Zm0 220h160v-160H400v160ZM180-400h160v-160H180v160Zm440 0h160v-160H620v160ZM180-180h160v-160H180v160Zm440 0h160v-160H620v160Z\"/>\n",
              "  </svg>\n",
              "    </button>\n",
              "\n",
              "  <style>\n",
              "    .colab-df-container {\n",
              "      display:flex;\n",
              "      gap: 12px;\n",
              "    }\n",
              "\n",
              "    .colab-df-convert {\n",
              "      background-color: #E8F0FE;\n",
              "      border: none;\n",
              "      border-radius: 50%;\n",
              "      cursor: pointer;\n",
              "      display: none;\n",
              "      fill: #1967D2;\n",
              "      height: 32px;\n",
              "      padding: 0 0 0 0;\n",
              "      width: 32px;\n",
              "    }\n",
              "\n",
              "    .colab-df-convert:hover {\n",
              "      background-color: #E2EBFA;\n",
              "      box-shadow: 0px 1px 2px rgba(60, 64, 67, 0.3), 0px 1px 3px 1px rgba(60, 64, 67, 0.15);\n",
              "      fill: #174EA6;\n",
              "    }\n",
              "\n",
              "    .colab-df-buttons div {\n",
              "      margin-bottom: 4px;\n",
              "    }\n",
              "\n",
              "    [theme=dark] .colab-df-convert {\n",
              "      background-color: #3B4455;\n",
              "      fill: #D2E3FC;\n",
              "    }\n",
              "\n",
              "    [theme=dark] .colab-df-convert:hover {\n",
              "      background-color: #434B5C;\n",
              "      box-shadow: 0px 1px 3px 1px rgba(0, 0, 0, 0.15);\n",
              "      filter: drop-shadow(0px 1px 2px rgba(0, 0, 0, 0.3));\n",
              "      fill: #FFFFFF;\n",
              "    }\n",
              "  </style>\n",
              "\n",
              "    <script>\n",
              "      const buttonEl =\n",
              "        document.querySelector('#df-5286aedb-ed10-48e6-8c72-bd4190c5138b button.colab-df-convert');\n",
              "      buttonEl.style.display =\n",
              "        google.colab.kernel.accessAllowed ? 'block' : 'none';\n",
              "\n",
              "      async function convertToInteractive(key) {\n",
              "        const element = document.querySelector('#df-5286aedb-ed10-48e6-8c72-bd4190c5138b');\n",
              "        const dataTable =\n",
              "          await google.colab.kernel.invokeFunction('convertToInteractive',\n",
              "                                                    [key], {});\n",
              "        if (!dataTable) return;\n",
              "\n",
              "        const docLinkHtml = 'Like what you see? Visit the ' +\n",
              "          '<a target=\"_blank\" href=https://colab.research.google.com/notebooks/data_table.ipynb>data table notebook</a>'\n",
              "          + ' to learn more about interactive tables.';\n",
              "        element.innerHTML = '';\n",
              "        dataTable['output_type'] = 'display_data';\n",
              "        await google.colab.output.renderOutput(dataTable, element);\n",
              "        const docLink = document.createElement('div');\n",
              "        docLink.innerHTML = docLinkHtml;\n",
              "        element.appendChild(docLink);\n",
              "      }\n",
              "    </script>\n",
              "  </div>\n",
              "\n",
              "\n",
              "<div id=\"df-13197143-6512-4d24-aa38-58eaa9198c81\">\n",
              "  <button class=\"colab-df-quickchart\" onclick=\"quickchart('df-13197143-6512-4d24-aa38-58eaa9198c81')\"\n",
              "            title=\"Suggest charts\"\n",
              "            style=\"display:none;\">\n",
              "\n",
              "<svg xmlns=\"http://www.w3.org/2000/svg\" height=\"24px\"viewBox=\"0 0 24 24\"\n",
              "     width=\"24px\">\n",
              "    <g>\n",
              "        <path d=\"M19 3H5c-1.1 0-2 .9-2 2v14c0 1.1.9 2 2 2h14c1.1 0 2-.9 2-2V5c0-1.1-.9-2-2-2zM9 17H7v-7h2v7zm4 0h-2V7h2v10zm4 0h-2v-4h2v4z\"/>\n",
              "    </g>\n",
              "</svg>\n",
              "  </button>\n",
              "\n",
              "<style>\n",
              "  .colab-df-quickchart {\n",
              "      --bg-color: #E8F0FE;\n",
              "      --fill-color: #1967D2;\n",
              "      --hover-bg-color: #E2EBFA;\n",
              "      --hover-fill-color: #174EA6;\n",
              "      --disabled-fill-color: #AAA;\n",
              "      --disabled-bg-color: #DDD;\n",
              "  }\n",
              "\n",
              "  [theme=dark] .colab-df-quickchart {\n",
              "      --bg-color: #3B4455;\n",
              "      --fill-color: #D2E3FC;\n",
              "      --hover-bg-color: #434B5C;\n",
              "      --hover-fill-color: #FFFFFF;\n",
              "      --disabled-bg-color: #3B4455;\n",
              "      --disabled-fill-color: #666;\n",
              "  }\n",
              "\n",
              "  .colab-df-quickchart {\n",
              "    background-color: var(--bg-color);\n",
              "    border: none;\n",
              "    border-radius: 50%;\n",
              "    cursor: pointer;\n",
              "    display: none;\n",
              "    fill: var(--fill-color);\n",
              "    height: 32px;\n",
              "    padding: 0;\n",
              "    width: 32px;\n",
              "  }\n",
              "\n",
              "  .colab-df-quickchart:hover {\n",
              "    background-color: var(--hover-bg-color);\n",
              "    box-shadow: 0 1px 2px rgba(60, 64, 67, 0.3), 0 1px 3px 1px rgba(60, 64, 67, 0.15);\n",
              "    fill: var(--button-hover-fill-color);\n",
              "  }\n",
              "\n",
              "  .colab-df-quickchart-complete:disabled,\n",
              "  .colab-df-quickchart-complete:disabled:hover {\n",
              "    background-color: var(--disabled-bg-color);\n",
              "    fill: var(--disabled-fill-color);\n",
              "    box-shadow: none;\n",
              "  }\n",
              "\n",
              "  .colab-df-spinner {\n",
              "    border: 2px solid var(--fill-color);\n",
              "    border-color: transparent;\n",
              "    border-bottom-color: var(--fill-color);\n",
              "    animation:\n",
              "      spin 1s steps(1) infinite;\n",
              "  }\n",
              "\n",
              "  @keyframes spin {\n",
              "    0% {\n",
              "      border-color: transparent;\n",
              "      border-bottom-color: var(--fill-color);\n",
              "      border-left-color: var(--fill-color);\n",
              "    }\n",
              "    20% {\n",
              "      border-color: transparent;\n",
              "      border-left-color: var(--fill-color);\n",
              "      border-top-color: var(--fill-color);\n",
              "    }\n",
              "    30% {\n",
              "      border-color: transparent;\n",
              "      border-left-color: var(--fill-color);\n",
              "      border-top-color: var(--fill-color);\n",
              "      border-right-color: var(--fill-color);\n",
              "    }\n",
              "    40% {\n",
              "      border-color: transparent;\n",
              "      border-right-color: var(--fill-color);\n",
              "      border-top-color: var(--fill-color);\n",
              "    }\n",
              "    60% {\n",
              "      border-color: transparent;\n",
              "      border-right-color: var(--fill-color);\n",
              "    }\n",
              "    80% {\n",
              "      border-color: transparent;\n",
              "      border-right-color: var(--fill-color);\n",
              "      border-bottom-color: var(--fill-color);\n",
              "    }\n",
              "    90% {\n",
              "      border-color: transparent;\n",
              "      border-bottom-color: var(--fill-color);\n",
              "    }\n",
              "  }\n",
              "</style>\n",
              "\n",
              "  <script>\n",
              "    async function quickchart(key) {\n",
              "      const quickchartButtonEl =\n",
              "        document.querySelector('#' + key + ' button');\n",
              "      quickchartButtonEl.disabled = true;  // To prevent multiple clicks.\n",
              "      quickchartButtonEl.classList.add('colab-df-spinner');\n",
              "      try {\n",
              "        const charts = await google.colab.kernel.invokeFunction(\n",
              "            'suggestCharts', [key], {});\n",
              "      } catch (error) {\n",
              "        console.error('Error during call to suggestCharts:', error);\n",
              "      }\n",
              "      quickchartButtonEl.classList.remove('colab-df-spinner');\n",
              "      quickchartButtonEl.classList.add('colab-df-quickchart-complete');\n",
              "    }\n",
              "    (() => {\n",
              "      let quickchartButtonEl =\n",
              "        document.querySelector('#df-13197143-6512-4d24-aa38-58eaa9198c81 button');\n",
              "      quickchartButtonEl.style.display =\n",
              "        google.colab.kernel.accessAllowed ? 'block' : 'none';\n",
              "    })();\n",
              "  </script>\n",
              "</div>\n",
              "\n",
              "    </div>\n",
              "  </div>\n"
            ]
          },
          "metadata": {},
          "execution_count": 5
        }
      ]
    },
    {
      "cell_type": "markdown",
      "source": [
        "# \\n\n",
        "'''Each record is separated by \\n'''"
      ],
      "metadata": {
        "id": "526CLfN0cB59"
      }
    },
    {
      "cell_type": "code",
      "source": [
        "# This is what the data looks like.\n",
        "for record in text.Text:\n",
        "    print(record + \"\\n\")"
      ],
      "metadata": {
        "colab": {
          "base_uri": "https://localhost:8080/"
        },
        "id": "t_HQ096BcDan",
        "outputId": "31c3ca14-ae1a-4822-ff98-36dd51eb701a"
      },
      "execution_count": null,
      "outputs": [
        {
          "output_type": "stream",
          "name": "stdout",
          "text": [
            "https://en.wikipedia.org/wiki/Elon_Musk\n",
            "\n",
            "Elon Reeve Musk FRS (/?i?l?n/ EE-lon; born June 28, 1971) is a business magnate, investor and philanthropist. He is the founder, CEO and Chief Engineer at SpaceX; angel investor, CEO and Product Architect of Tesla, Inc.; founder of The Boring Company; and co-founder of Neuralink and OpenAI. With an estimated net worth of around US$265 billion as of May 2022,[4] Musk is the wealthiest person in the world according to both the Bloomberg Billionaires Index and the Forbes real-time billionaires list.[5][6]\n",
            "\n",
            "Musk was born to a Canadian mother and White South African father, and raised in Pretoria, South Africa. He briefly attended the University of Pretoria before moving to Canada at age 17. He matriculated at Queen's University and transferred to the University of Pennsylvania two years later, where he received a bachelor's degree in Economics and Physics. He moved to California in 1995 to attend Stanford University but decided instead to pursue a business career, co-founding the web software company Zip2 with his brother Kimbal. The startup was acquired by Compaq for $307 million in 1999. The same year, Musk co-founded online bank X.com, which merged with Confinity in 2000 to form PayPal. The company was bought by eBay in 2002 for $1.5 billion.\n",
            "\n",
            "In 2002, Musk founded SpaceX, an aerospace manufacturer and space transport services company, of which he serves as CEO and Chief Engineer. In 2004, he joined electric vehicle manufacturer Tesla Motors, Inc. (now Tesla, Inc.) as chairman and product architect, eventually assuming the position of CEO in 2008. In 2006, he helped create SolarCity, a solar energy company that was later acquired by Tesla and became Tesla Energy. In 2015, he co-founded OpenAI, a nonprofit research company that promotes friendly artificial intelligence (AI). In 2016, he co-founded Neuralink, a neurotechnology company focused on developing brain–computer interfaces, and founded The Boring Company, a tunnel construction company. He also agreed to purchase the major American social networking service Twitter in 2022 for $44 billion. Musk has proposed the Hyperloop, a high-speed vactrain transportation system. He is the president of the Musk Foundation, an organization which donates to scientific research and education.\n",
            "\n",
            "Musk has been criticized for making unscientific and controversial statements, such as spreading misinformation about the COVID-19 pandemic. In 2018, he was sued by the US Securities and Exchange Commission (SEC) for falsely tweeting that he had secured funding for a private takeover of Tesla; he settled with the SEC but did not admit guilt, and temporarily stepped down from his Tesla chairmanship. In 2019, he won a defamation case brought against him by a British caver who had advised in the Tham Luang cave rescue.\n",
            "\n"
          ]
        }
      ]
    },
    {
      "cell_type": "markdown",
      "source": [
        "#Remove Punctuation\n",
        "like ;"
      ],
      "metadata": {
        "id": "PQLLjdTLcLQ2"
      }
    },
    {
      "cell_type": "code",
      "source": [
        "def remove_punctuation(text: str) -> str:\n",
        "    return text.str.replace(r'[^\\w\\s]+', '') # r'' indicates to treat as a raw string\n",
        "\n",
        "no_punctuation = text.apply(remove_punctuation) # example how to run function on dataframe\n",
        "for c, n in enumerate(no_punctuation.Text):\n",
        "    print(\"PUNCTUATION REMOVED:\", n + \"\\n\")\n",
        "    print(\"ORIGINAL:\", text.Text[c] + \"\\n\")\n",
        "    print(\"-----\")"
      ],
      "metadata": {
        "colab": {
          "base_uri": "https://localhost:8080/"
        },
        "id": "d6aAs8epcWRF",
        "outputId": "9554ceec-ff3a-4c75-873e-aace5afdae38"
      },
      "execution_count": null,
      "outputs": [
        {
          "output_type": "stream",
          "name": "stdout",
          "text": [
            "PUNCTUATION REMOVED: httpsenwikipediaorgwikiElon_Musk\n",
            "\n",
            "ORIGINAL: https://en.wikipedia.org/wiki/Elon_Musk\n",
            "\n",
            "-----\n",
            "PUNCTUATION REMOVED: Elon Reeve Musk FRS iln EElon born June 28 1971 is a business magnate investor and philanthropist He is the founder CEO and Chief Engineer at SpaceX angel investor CEO and Product Architect of Tesla Inc founder of The Boring Company and cofounder of Neuralink and OpenAI With an estimated net worth of around US265 billion as of May 20224 Musk is the wealthiest person in the world according to both the Bloomberg Billionaires Index and the Forbes realtime billionaires list56\n",
            "\n",
            "ORIGINAL: Elon Reeve Musk FRS (/?i?l?n/ EE-lon; born June 28, 1971) is a business magnate, investor and philanthropist. He is the founder, CEO and Chief Engineer at SpaceX; angel investor, CEO and Product Architect of Tesla, Inc.; founder of The Boring Company; and co-founder of Neuralink and OpenAI. With an estimated net worth of around US$265 billion as of May 2022,[4] Musk is the wealthiest person in the world according to both the Bloomberg Billionaires Index and the Forbes real-time billionaires list.[5][6]\n",
            "\n",
            "-----\n",
            "PUNCTUATION REMOVED: Musk was born to a Canadian mother and White South African father and raised in Pretoria South Africa He briefly attended the University of Pretoria before moving to Canada at age 17 He matriculated at Queens University and transferred to the University of Pennsylvania two years later where he received a bachelors degree in Economics and Physics He moved to California in 1995 to attend Stanford University but decided instead to pursue a business career cofounding the web software company Zip2 with his brother Kimbal The startup was acquired by Compaq for 307 million in 1999 The same year Musk cofounded online bank Xcom which merged with Confinity in 2000 to form PayPal The company was bought by eBay in 2002 for 15 billion\n",
            "\n",
            "ORIGINAL: Musk was born to a Canadian mother and White South African father, and raised in Pretoria, South Africa. He briefly attended the University of Pretoria before moving to Canada at age 17. He matriculated at Queen's University and transferred to the University of Pennsylvania two years later, where he received a bachelor's degree in Economics and Physics. He moved to California in 1995 to attend Stanford University but decided instead to pursue a business career, co-founding the web software company Zip2 with his brother Kimbal. The startup was acquired by Compaq for $307 million in 1999. The same year, Musk co-founded online bank X.com, which merged with Confinity in 2000 to form PayPal. The company was bought by eBay in 2002 for $1.5 billion.\n",
            "\n",
            "-----\n",
            "PUNCTUATION REMOVED: In 2002 Musk founded SpaceX an aerospace manufacturer and space transport services company of which he serves as CEO and Chief Engineer In 2004 he joined electric vehicle manufacturer Tesla Motors Inc now Tesla Inc as chairman and product architect eventually assuming the position of CEO in 2008 In 2006 he helped create SolarCity a solar energy company that was later acquired by Tesla and became Tesla Energy In 2015 he cofounded OpenAI a nonprofit research company that promotes friendly artificial intelligence AI In 2016 he cofounded Neuralink a neurotechnology company focused on developing braincomputer interfaces and founded The Boring Company a tunnel construction company He also agreed to purchase the major American social networking service Twitter in 2022 for 44 billion Musk has proposed the Hyperloop a highspeed vactrain transportation system He is the president of the Musk Foundation an organization which donates to scientific research and education\n",
            "\n",
            "ORIGINAL: In 2002, Musk founded SpaceX, an aerospace manufacturer and space transport services company, of which he serves as CEO and Chief Engineer. In 2004, he joined electric vehicle manufacturer Tesla Motors, Inc. (now Tesla, Inc.) as chairman and product architect, eventually assuming the position of CEO in 2008. In 2006, he helped create SolarCity, a solar energy company that was later acquired by Tesla and became Tesla Energy. In 2015, he co-founded OpenAI, a nonprofit research company that promotes friendly artificial intelligence (AI). In 2016, he co-founded Neuralink, a neurotechnology company focused on developing brain–computer interfaces, and founded The Boring Company, a tunnel construction company. He also agreed to purchase the major American social networking service Twitter in 2022 for $44 billion. Musk has proposed the Hyperloop, a high-speed vactrain transportation system. He is the president of the Musk Foundation, an organization which donates to scientific research and education.\n",
            "\n",
            "-----\n",
            "PUNCTUATION REMOVED: Musk has been criticized for making unscientific and controversial statements such as spreading misinformation about the COVID19 pandemic In 2018 he was sued by the US Securities and Exchange Commission SEC for falsely tweeting that he had secured funding for a private takeover of Tesla he settled with the SEC but did not admit guilt and temporarily stepped down from his Tesla chairmanship In 2019 he won a defamation case brought against him by a British caver who had advised in the Tham Luang cave rescue\n",
            "\n",
            "ORIGINAL: Musk has been criticized for making unscientific and controversial statements, such as spreading misinformation about the COVID-19 pandemic. In 2018, he was sued by the US Securities and Exchange Commission (SEC) for falsely tweeting that he had secured funding for a private takeover of Tesla; he settled with the SEC but did not admit guilt, and temporarily stepped down from his Tesla chairmanship. In 2019, he won a defamation case brought against him by a British caver who had advised in the Tham Luang cave rescue.\n",
            "\n",
            "-----\n"
          ]
        },
        {
          "output_type": "stream",
          "name": "stderr",
          "text": [
            "<ipython-input-7-8a4fbde22dba>:2: FutureWarning: The default value of regex will change from True to False in a future version.\n",
            "  return text.str.replace(r'[^\\w\\s]+', '') # r'' indicates to treat as a raw string\n"
          ]
        }
      ]
    },
    {
      "cell_type": "markdown",
      "source": [
        "#Removing URLs\n"
      ],
      "metadata": {
        "id": "UHrKYJ0_cYwz"
      }
    },
    {
      "cell_type": "code",
      "source": [
        "def remove_url(text: str) -> str:\n",
        "    return text.str.replace(r'http\\S+|www.\\S+', '')\n",
        "\n",
        "no_url = text.apply(remove_url)\n",
        "for c, n in enumerate(no_url.Text):\n",
        "    print(\"URL REMOVED:\", n + \"\\n\") # Notice how the URL in the first record disappeared!\n",
        "    print(\"ORIGINAL:\", text.Text[c] + \"\\n\")\n",
        "    print(\"-----\")"
      ],
      "metadata": {
        "colab": {
          "base_uri": "https://localhost:8080/"
        },
        "id": "xd3tK240cZSc",
        "outputId": "f9305320-5c47-48d8-d01e-faf20cd7efd0"
      },
      "execution_count": null,
      "outputs": [
        {
          "output_type": "stream",
          "name": "stdout",
          "text": [
            "URL REMOVED: \n",
            "\n",
            "ORIGINAL: https://en.wikipedia.org/wiki/Elon_Musk\n",
            "\n",
            "-----\n",
            "URL REMOVED: Elon Reeve Musk FRS (/?i?l?n/ EE-lon; born June 28, 1971) is a business magnate, investor and philanthropist. He is the founder, CEO and Chief Engineer at SpaceX; angel investor, CEO and Product Architect of Tesla, Inc.; founder of The Boring Company; and co-founder of Neuralink and OpenAI. With an estimated net worth of around US$265 billion as of May 2022,[4] Musk is the wealthiest person in the world according to both the Bloomberg Billionaires Index and the Forbes real-time billionaires list.[5][6]\n",
            "\n",
            "ORIGINAL: Elon Reeve Musk FRS (/?i?l?n/ EE-lon; born June 28, 1971) is a business magnate, investor and philanthropist. He is the founder, CEO and Chief Engineer at SpaceX; angel investor, CEO and Product Architect of Tesla, Inc.; founder of The Boring Company; and co-founder of Neuralink and OpenAI. With an estimated net worth of around US$265 billion as of May 2022,[4] Musk is the wealthiest person in the world according to both the Bloomberg Billionaires Index and the Forbes real-time billionaires list.[5][6]\n",
            "\n",
            "-----\n",
            "URL REMOVED: Musk was born to a Canadian mother and White South African father, and raised in Pretoria, South Africa. He briefly attended the University of Pretoria before moving to Canada at age 17. He matriculated at Queen's University and transferred to the University of Pennsylvania two years later, where he received a bachelor's degree in Economics and Physics. He moved to California in 1995 to attend Stanford University but decided instead to pursue a business career, co-founding the web software company Zip2 with his brother Kimbal. The startup was acquired by Compaq for $307 million in 1999. The same year, Musk co-founded online bank X.com, which merged with Confinity in 2000 to form PayPal. The company was bought by eBay in 2002 for $1.5 billion.\n",
            "\n",
            "ORIGINAL: Musk was born to a Canadian mother and White South African father, and raised in Pretoria, South Africa. He briefly attended the University of Pretoria before moving to Canada at age 17. He matriculated at Queen's University and transferred to the University of Pennsylvania two years later, where he received a bachelor's degree in Economics and Physics. He moved to California in 1995 to attend Stanford University but decided instead to pursue a business career, co-founding the web software company Zip2 with his brother Kimbal. The startup was acquired by Compaq for $307 million in 1999. The same year, Musk co-founded online bank X.com, which merged with Confinity in 2000 to form PayPal. The company was bought by eBay in 2002 for $1.5 billion.\n",
            "\n",
            "-----\n",
            "URL REMOVED: In 2002, Musk founded SpaceX, an aerospace manufacturer and space transport services company, of which he serves as CEO and Chief Engineer. In 2004, he joined electric vehicle manufacturer Tesla Motors, Inc. (now Tesla, Inc.) as chairman and product architect, eventually assuming the position of CEO in 2008. In 2006, he helped create SolarCity, a solar energy company that was later acquired by Tesla and became Tesla Energy. In 2015, he co-founded OpenAI, a nonprofit research company that promotes friendly artificial intelligence (AI). In 2016, he co-founded Neuralink, a neurotechnology company focused on developing brain–computer interfaces, and founded The Boring Company, a tunnel construction company. He also agreed to purchase the major American social networking service Twitter in 2022 for $44 billion. Musk has proposed the Hyperloop, a high-speed vactrain transportation system. He is the president of the Musk Foundation, an organization which donates to scientific research and education.\n",
            "\n",
            "ORIGINAL: In 2002, Musk founded SpaceX, an aerospace manufacturer and space transport services company, of which he serves as CEO and Chief Engineer. In 2004, he joined electric vehicle manufacturer Tesla Motors, Inc. (now Tesla, Inc.) as chairman and product architect, eventually assuming the position of CEO in 2008. In 2006, he helped create SolarCity, a solar energy company that was later acquired by Tesla and became Tesla Energy. In 2015, he co-founded OpenAI, a nonprofit research company that promotes friendly artificial intelligence (AI). In 2016, he co-founded Neuralink, a neurotechnology company focused on developing brain–computer interfaces, and founded The Boring Company, a tunnel construction company. He also agreed to purchase the major American social networking service Twitter in 2022 for $44 billion. Musk has proposed the Hyperloop, a high-speed vactrain transportation system. He is the president of the Musk Foundation, an organization which donates to scientific research and education.\n",
            "\n",
            "-----\n",
            "URL REMOVED: Musk has been criticized for making unscientific and controversial statements, such as spreading misinformation about the COVID-19 pandemic. In 2018, he was sued by the US Securities and Exchange Commission (SEC) for falsely tweeting that he had secured funding for a private takeover of Tesla; he settled with the SEC but did not admit guilt, and temporarily stepped down from his Tesla chairmanship. In 2019, he won a defamation case brought against him by a British caver who had advised in the Tham Luang cave rescue.\n",
            "\n",
            "ORIGINAL: Musk has been criticized for making unscientific and controversial statements, such as spreading misinformation about the COVID-19 pandemic. In 2018, he was sued by the US Securities and Exchange Commission (SEC) for falsely tweeting that he had secured funding for a private takeover of Tesla; he settled with the SEC but did not admit guilt, and temporarily stepped down from his Tesla chairmanship. In 2019, he won a defamation case brought against him by a British caver who had advised in the Tham Luang cave rescue.\n",
            "\n",
            "-----\n"
          ]
        },
        {
          "output_type": "stream",
          "name": "stderr",
          "text": [
            "<ipython-input-8-12bd1c536ab9>:2: FutureWarning: The default value of regex will change from True to False in a future version.\n",
            "  return text.str.replace(r'http\\S+|www.\\S+', '')\n"
          ]
        }
      ]
    },
    {
      "cell_type": "markdown",
      "source": [
        "#Remove Stop Words!"
      ],
      "metadata": {
        "id": "uyeQVyR6cbqL"
      }
    },
    {
      "cell_type": "code",
      "source": [
        "stop_words = pd.read_csv(\"common_stopwords.txt\")"
      ],
      "metadata": {
        "id": "lym5Br-FccHv"
      },
      "execution_count": null,
      "outputs": []
    },
    {
      "cell_type": "code",
      "source": [
        "#for word in stop_words.STOP_WORDS:\n",
        "#    print(word)\n",
        "len(stop_words)"
      ],
      "metadata": {
        "colab": {
          "base_uri": "https://localhost:8080/"
        },
        "id": "_cr5IFXJcgRc",
        "outputId": "cf85f834-3f85-4f10-82a5-a334a64d4f0d"
      },
      "execution_count": null,
      "outputs": [
        {
          "output_type": "execute_result",
          "data": {
            "text/plain": [
              "173"
            ]
          },
          "metadata": {},
          "execution_count": 10
        }
      ]
    },
    {
      "cell_type": "code",
      "source": [
        "#removing stop words from dataframe\n",
        "text_with_no_stop_words = text.apply(lambda x: [item for item in x if item not in stop_words])\n",
        "for c, twnsw in enumerate(text_with_no_stop_words.Text):\n",
        "    print(\"NO STOP WORDS:\", twnsw + \"\\n\")\n",
        "    print(\"ORIGINAL:\", text.Text[c] + \"\\n\")\n",
        "    print(\"-----\")"
      ],
      "metadata": {
        "colab": {
          "base_uri": "https://localhost:8080/"
        },
        "id": "5Jje822KclHj",
        "outputId": "ca56ae00-d652-44af-fdc1-19f5e880f245"
      },
      "execution_count": null,
      "outputs": [
        {
          "output_type": "stream",
          "name": "stdout",
          "text": [
            "NO STOP WORDS: https://en.wikipedia.org/wiki/Elon_Musk\n",
            "\n",
            "ORIGINAL: https://en.wikipedia.org/wiki/Elon_Musk\n",
            "\n",
            "-----\n",
            "NO STOP WORDS: Elon Reeve Musk FRS (/?i?l?n/ EE-lon; born June 28, 1971) is a business magnate, investor and philanthropist. He is the founder, CEO and Chief Engineer at SpaceX; angel investor, CEO and Product Architect of Tesla, Inc.; founder of The Boring Company; and co-founder of Neuralink and OpenAI. With an estimated net worth of around US$265 billion as of May 2022,[4] Musk is the wealthiest person in the world according to both the Bloomberg Billionaires Index and the Forbes real-time billionaires list.[5][6]\n",
            "\n",
            "ORIGINAL: Elon Reeve Musk FRS (/?i?l?n/ EE-lon; born June 28, 1971) is a business magnate, investor and philanthropist. He is the founder, CEO and Chief Engineer at SpaceX; angel investor, CEO and Product Architect of Tesla, Inc.; founder of The Boring Company; and co-founder of Neuralink and OpenAI. With an estimated net worth of around US$265 billion as of May 2022,[4] Musk is the wealthiest person in the world according to both the Bloomberg Billionaires Index and the Forbes real-time billionaires list.[5][6]\n",
            "\n",
            "-----\n",
            "NO STOP WORDS: Musk was born to a Canadian mother and White South African father, and raised in Pretoria, South Africa. He briefly attended the University of Pretoria before moving to Canada at age 17. He matriculated at Queen's University and transferred to the University of Pennsylvania two years later, where he received a bachelor's degree in Economics and Physics. He moved to California in 1995 to attend Stanford University but decided instead to pursue a business career, co-founding the web software company Zip2 with his brother Kimbal. The startup was acquired by Compaq for $307 million in 1999. The same year, Musk co-founded online bank X.com, which merged with Confinity in 2000 to form PayPal. The company was bought by eBay in 2002 for $1.5 billion.\n",
            "\n",
            "ORIGINAL: Musk was born to a Canadian mother and White South African father, and raised in Pretoria, South Africa. He briefly attended the University of Pretoria before moving to Canada at age 17. He matriculated at Queen's University and transferred to the University of Pennsylvania two years later, where he received a bachelor's degree in Economics and Physics. He moved to California in 1995 to attend Stanford University but decided instead to pursue a business career, co-founding the web software company Zip2 with his brother Kimbal. The startup was acquired by Compaq for $307 million in 1999. The same year, Musk co-founded online bank X.com, which merged with Confinity in 2000 to form PayPal. The company was bought by eBay in 2002 for $1.5 billion.\n",
            "\n",
            "-----\n",
            "NO STOP WORDS: In 2002, Musk founded SpaceX, an aerospace manufacturer and space transport services company, of which he serves as CEO and Chief Engineer. In 2004, he joined electric vehicle manufacturer Tesla Motors, Inc. (now Tesla, Inc.) as chairman and product architect, eventually assuming the position of CEO in 2008. In 2006, he helped create SolarCity, a solar energy company that was later acquired by Tesla and became Tesla Energy. In 2015, he co-founded OpenAI, a nonprofit research company that promotes friendly artificial intelligence (AI). In 2016, he co-founded Neuralink, a neurotechnology company focused on developing brain–computer interfaces, and founded The Boring Company, a tunnel construction company. He also agreed to purchase the major American social networking service Twitter in 2022 for $44 billion. Musk has proposed the Hyperloop, a high-speed vactrain transportation system. He is the president of the Musk Foundation, an organization which donates to scientific research and education.\n",
            "\n",
            "ORIGINAL: In 2002, Musk founded SpaceX, an aerospace manufacturer and space transport services company, of which he serves as CEO and Chief Engineer. In 2004, he joined electric vehicle manufacturer Tesla Motors, Inc. (now Tesla, Inc.) as chairman and product architect, eventually assuming the position of CEO in 2008. In 2006, he helped create SolarCity, a solar energy company that was later acquired by Tesla and became Tesla Energy. In 2015, he co-founded OpenAI, a nonprofit research company that promotes friendly artificial intelligence (AI). In 2016, he co-founded Neuralink, a neurotechnology company focused on developing brain–computer interfaces, and founded The Boring Company, a tunnel construction company. He also agreed to purchase the major American social networking service Twitter in 2022 for $44 billion. Musk has proposed the Hyperloop, a high-speed vactrain transportation system. He is the president of the Musk Foundation, an organization which donates to scientific research and education.\n",
            "\n",
            "-----\n",
            "NO STOP WORDS: Musk has been criticized for making unscientific and controversial statements, such as spreading misinformation about the COVID-19 pandemic. In 2018, he was sued by the US Securities and Exchange Commission (SEC) for falsely tweeting that he had secured funding for a private takeover of Tesla; he settled with the SEC but did not admit guilt, and temporarily stepped down from his Tesla chairmanship. In 2019, he won a defamation case brought against him by a British caver who had advised in the Tham Luang cave rescue.\n",
            "\n",
            "ORIGINAL: Musk has been criticized for making unscientific and controversial statements, such as spreading misinformation about the COVID-19 pandemic. In 2018, he was sued by the US Securities and Exchange Commission (SEC) for falsely tweeting that he had secured funding for a private takeover of Tesla; he settled with the SEC but did not admit guilt, and temporarily stepped down from his Tesla chairmanship. In 2019, he won a defamation case brought against him by a British caver who had advised in the Tham Luang cave rescue.\n",
            "\n",
            "-----\n"
          ]
        }
      ]
    },
    {
      "cell_type": "markdown",
      "source": [
        "#Lowercase"
      ],
      "metadata": {
        "id": "Eo8vARJlcnIv"
      }
    },
    {
      "cell_type": "code",
      "source": [
        "for c, t in enumerate(text.Text):\n",
        "    print(\"LOWERCASE:\", t.lower() + \"\\n\")\n",
        "    print(\"ORIGINAL:\", t + \"\\n\")\n",
        "    print(\"-----\")"
      ],
      "metadata": {
        "colab": {
          "base_uri": "https://localhost:8080/"
        },
        "id": "DAEkcxVccnkT",
        "outputId": "13bd7fcc-419a-49db-8e5a-35346949ecde"
      },
      "execution_count": null,
      "outputs": [
        {
          "output_type": "stream",
          "name": "stdout",
          "text": [
            "LOWERCASE: https://en.wikipedia.org/wiki/elon_musk\n",
            "\n",
            "ORIGINAL: https://en.wikipedia.org/wiki/Elon_Musk\n",
            "\n",
            "-----\n",
            "LOWERCASE: elon reeve musk frs (/?i?l?n/ ee-lon; born june 28, 1971) is a business magnate, investor and philanthropist. he is the founder, ceo and chief engineer at spacex; angel investor, ceo and product architect of tesla, inc.; founder of the boring company; and co-founder of neuralink and openai. with an estimated net worth of around us$265 billion as of may 2022,[4] musk is the wealthiest person in the world according to both the bloomberg billionaires index and the forbes real-time billionaires list.[5][6]\n",
            "\n",
            "ORIGINAL: Elon Reeve Musk FRS (/?i?l?n/ EE-lon; born June 28, 1971) is a business magnate, investor and philanthropist. He is the founder, CEO and Chief Engineer at SpaceX; angel investor, CEO and Product Architect of Tesla, Inc.; founder of The Boring Company; and co-founder of Neuralink and OpenAI. With an estimated net worth of around US$265 billion as of May 2022,[4] Musk is the wealthiest person in the world according to both the Bloomberg Billionaires Index and the Forbes real-time billionaires list.[5][6]\n",
            "\n",
            "-----\n",
            "LOWERCASE: musk was born to a canadian mother and white south african father, and raised in pretoria, south africa. he briefly attended the university of pretoria before moving to canada at age 17. he matriculated at queen's university and transferred to the university of pennsylvania two years later, where he received a bachelor's degree in economics and physics. he moved to california in 1995 to attend stanford university but decided instead to pursue a business career, co-founding the web software company zip2 with his brother kimbal. the startup was acquired by compaq for $307 million in 1999. the same year, musk co-founded online bank x.com, which merged with confinity in 2000 to form paypal. the company was bought by ebay in 2002 for $1.5 billion.\n",
            "\n",
            "ORIGINAL: Musk was born to a Canadian mother and White South African father, and raised in Pretoria, South Africa. He briefly attended the University of Pretoria before moving to Canada at age 17. He matriculated at Queen's University and transferred to the University of Pennsylvania two years later, where he received a bachelor's degree in Economics and Physics. He moved to California in 1995 to attend Stanford University but decided instead to pursue a business career, co-founding the web software company Zip2 with his brother Kimbal. The startup was acquired by Compaq for $307 million in 1999. The same year, Musk co-founded online bank X.com, which merged with Confinity in 2000 to form PayPal. The company was bought by eBay in 2002 for $1.5 billion.\n",
            "\n",
            "-----\n",
            "LOWERCASE: in 2002, musk founded spacex, an aerospace manufacturer and space transport services company, of which he serves as ceo and chief engineer. in 2004, he joined electric vehicle manufacturer tesla motors, inc. (now tesla, inc.) as chairman and product architect, eventually assuming the position of ceo in 2008. in 2006, he helped create solarcity, a solar energy company that was later acquired by tesla and became tesla energy. in 2015, he co-founded openai, a nonprofit research company that promotes friendly artificial intelligence (ai). in 2016, he co-founded neuralink, a neurotechnology company focused on developing brain–computer interfaces, and founded the boring company, a tunnel construction company. he also agreed to purchase the major american social networking service twitter in 2022 for $44 billion. musk has proposed the hyperloop, a high-speed vactrain transportation system. he is the president of the musk foundation, an organization which donates to scientific research and education.\n",
            "\n",
            "ORIGINAL: In 2002, Musk founded SpaceX, an aerospace manufacturer and space transport services company, of which he serves as CEO and Chief Engineer. In 2004, he joined electric vehicle manufacturer Tesla Motors, Inc. (now Tesla, Inc.) as chairman and product architect, eventually assuming the position of CEO in 2008. In 2006, he helped create SolarCity, a solar energy company that was later acquired by Tesla and became Tesla Energy. In 2015, he co-founded OpenAI, a nonprofit research company that promotes friendly artificial intelligence (AI). In 2016, he co-founded Neuralink, a neurotechnology company focused on developing brain–computer interfaces, and founded The Boring Company, a tunnel construction company. He also agreed to purchase the major American social networking service Twitter in 2022 for $44 billion. Musk has proposed the Hyperloop, a high-speed vactrain transportation system. He is the president of the Musk Foundation, an organization which donates to scientific research and education.\n",
            "\n",
            "-----\n",
            "LOWERCASE: musk has been criticized for making unscientific and controversial statements, such as spreading misinformation about the covid-19 pandemic. in 2018, he was sued by the us securities and exchange commission (sec) for falsely tweeting that he had secured funding for a private takeover of tesla; he settled with the sec but did not admit guilt, and temporarily stepped down from his tesla chairmanship. in 2019, he won a defamation case brought against him by a british caver who had advised in the tham luang cave rescue.\n",
            "\n",
            "ORIGINAL: Musk has been criticized for making unscientific and controversial statements, such as spreading misinformation about the COVID-19 pandemic. In 2018, he was sued by the US Securities and Exchange Commission (SEC) for falsely tweeting that he had secured funding for a private takeover of Tesla; he settled with the SEC but did not admit guilt, and temporarily stepped down from his Tesla chairmanship. In 2019, he won a defamation case brought against him by a British caver who had advised in the Tham Luang cave rescue.\n",
            "\n",
            "-----\n"
          ]
        }
      ]
    },
    {
      "cell_type": "markdown",
      "source": [
        "#Tokenization\n",
        "whitespace tokenization"
      ],
      "metadata": {
        "id": "h-uEEBItcp_3"
      }
    },
    {
      "cell_type": "code",
      "source": [
        "# tokenization can be as simple as str.split()\n",
        "def tokenize_by_word(text: str) -> str:\n",
        "    return text.str.split(\" \")\n",
        "\n",
        "text_tokenize_words = text.apply(tokenize_by_word)\n",
        "for ttw in text_tokenize_words.Text:\n",
        "    print(ttw)\n",
        "    print(\"\\n-----\")"
      ],
      "metadata": {
        "colab": {
          "base_uri": "https://localhost:8080/"
        },
        "id": "XcXP5RXmcqcL",
        "outputId": "3030e800-46ab-4129-a0b2-4ce98ce61fae"
      },
      "execution_count": null,
      "outputs": [
        {
          "output_type": "stream",
          "name": "stdout",
          "text": [
            "['https://en.wikipedia.org/wiki/Elon_Musk']\n",
            "\n",
            "-----\n",
            "['Elon', 'Reeve', 'Musk', 'FRS', '(/?i?l?n/', 'EE-lon;', 'born', 'June', '28,', '1971)', 'is', 'a', 'business', 'magnate,', 'investor', 'and', 'philanthropist.', 'He', 'is', 'the', 'founder,', 'CEO', 'and', 'Chief', 'Engineer', 'at', 'SpaceX;', 'angel', 'investor,', 'CEO', 'and', 'Product', 'Architect', 'of', 'Tesla,', 'Inc.;', 'founder', 'of', 'The', 'Boring', 'Company;', 'and', 'co-founder', 'of', 'Neuralink', 'and', 'OpenAI.', 'With', 'an', 'estimated', 'net', 'worth', 'of', 'around', 'US$265', 'billion', 'as', 'of', 'May', '2022,[4]', 'Musk', 'is', 'the', 'wealthiest', 'person', 'in', 'the', 'world', 'according', 'to', 'both', 'the', 'Bloomberg', 'Billionaires', 'Index', 'and', 'the', 'Forbes', 'real-time', 'billionaires', 'list.[5][6]']\n",
            "\n",
            "-----\n",
            "['Musk', 'was', 'born', 'to', 'a', 'Canadian', 'mother', 'and', 'White', 'South', 'African', 'father,', 'and', 'raised', 'in', 'Pretoria,', 'South', 'Africa.', 'He', 'briefly', 'attended', 'the', 'University', 'of', 'Pretoria', 'before', 'moving', 'to', 'Canada', 'at', 'age', '17.', 'He', 'matriculated', 'at', \"Queen's\", 'University', 'and', 'transferred', 'to', 'the', 'University', 'of', 'Pennsylvania', 'two', 'years', 'later,', 'where', 'he', 'received', 'a', \"bachelor's\", 'degree', 'in', 'Economics', 'and', 'Physics.', 'He', 'moved', 'to', 'California', 'in', '1995', 'to', 'attend', 'Stanford', 'University', 'but', 'decided', 'instead', 'to', 'pursue', 'a', 'business', 'career,', 'co-founding', 'the', 'web', 'software', 'company', 'Zip2', 'with', 'his', 'brother', 'Kimbal.', 'The', 'startup', 'was', 'acquired', 'by', 'Compaq', 'for', '$307', 'million', 'in', '1999.', 'The', 'same', 'year,', 'Musk', 'co-founded', 'online', 'bank', 'X.com,', 'which', 'merged', 'with', 'Confinity', 'in', '2000', 'to', 'form', 'PayPal.', 'The', 'company', 'was', 'bought', 'by', 'eBay', 'in', '2002', 'for', '$1.5', 'billion.']\n",
            "\n",
            "-----\n",
            "['In', '2002,', 'Musk', 'founded', 'SpaceX,', 'an', 'aerospace', 'manufacturer', 'and', 'space', 'transport', 'services', 'company,', 'of', 'which', 'he', 'serves', 'as', 'CEO', 'and', 'Chief', 'Engineer.', 'In', '2004,', 'he', 'joined', 'electric', 'vehicle', 'manufacturer', 'Tesla', 'Motors,', 'Inc.', '(now', 'Tesla,', 'Inc.)', 'as', 'chairman', 'and', 'product', 'architect,', 'eventually', 'assuming', 'the', 'position', 'of', 'CEO', 'in', '2008.', 'In', '2006,', 'he', 'helped', 'create', 'SolarCity,', 'a', 'solar', 'energy', 'company', 'that', 'was', 'later', 'acquired', 'by', 'Tesla', 'and', 'became', 'Tesla', 'Energy.', 'In', '2015,', 'he', 'co-founded', 'OpenAI,', 'a', 'nonprofit', 'research', 'company', 'that', 'promotes', 'friendly', 'artificial', 'intelligence', '(AI).', 'In', '2016,', 'he', 'co-founded', 'Neuralink,', 'a', 'neurotechnology', 'company', 'focused', 'on', 'developing', 'brain–computer', 'interfaces,', 'and', 'founded', 'The', 'Boring', 'Company,', 'a', 'tunnel', 'construction', 'company.', 'He', 'also', 'agreed', 'to', 'purchase', 'the', 'major', 'American', 'social', 'networking', 'service', 'Twitter', 'in', '2022', 'for', '$44', 'billion.', 'Musk', 'has', 'proposed', 'the', 'Hyperloop,', 'a', 'high-speed', 'vactrain', 'transportation', 'system.', 'He', 'is', 'the', 'president', 'of', 'the', 'Musk', 'Foundation,', 'an', 'organization', 'which', 'donates', 'to', 'scientific', 'research', 'and', 'education.']\n",
            "\n",
            "-----\n",
            "['Musk', 'has', 'been', 'criticized', 'for', 'making', 'unscientific', 'and', 'controversial', 'statements,', 'such', 'as', 'spreading', 'misinformation', 'about', 'the', 'COVID-19', 'pandemic.', 'In', '2018,', 'he', 'was', 'sued', 'by', 'the', 'US', 'Securities', 'and', 'Exchange', 'Commission', '(SEC)', 'for', 'falsely', 'tweeting', 'that', 'he', 'had', 'secured', 'funding', 'for', 'a', 'private', 'takeover', 'of', 'Tesla;', 'he', 'settled', 'with', 'the', 'SEC', 'but', 'did', 'not', 'admit', 'guilt,', 'and', 'temporarily', 'stepped', 'down', 'from', 'his', 'Tesla', 'chairmanship.', 'In', '2019,', 'he', 'won', 'a', 'defamation', 'case', 'brought', 'against', 'him', 'by', 'a', 'British', 'caver', 'who', 'had', 'advised', 'in', 'the', 'Tham', 'Luang', 'cave', 'rescue.']\n",
            "\n",
            "-----\n"
          ]
        }
      ]
    },
    {
      "cell_type": "code",
      "source": [
        "text.Text[1]"
      ],
      "metadata": {
        "colab": {
          "base_uri": "https://localhost:8080/",
          "height": 107
        },
        "id": "mPt1c58pcv0D",
        "outputId": "d515b4b9-7af4-428f-8dda-0a7168112a99"
      },
      "execution_count": null,
      "outputs": [
        {
          "output_type": "execute_result",
          "data": {
            "text/plain": [
              "'Elon Reeve Musk FRS (/?i?l?n/ EE-lon; born June 28, 1971) is a business magnate, investor and philanthropist. He is the founder, CEO and Chief Engineer at SpaceX; angel investor, CEO and Product Architect of Tesla, Inc.; founder of The Boring Company; and co-founder of Neuralink and OpenAI. With an estimated net worth of around US$265 billion as of May 2022,[4] Musk is the wealthiest person in the world according to both the Bloomberg Billionaires Index and the Forbes real-time billionaires list.[5][6]'"
            ],
            "application/vnd.google.colaboratory.intrinsic+json": {
              "type": "string"
            }
          },
          "metadata": {},
          "execution_count": 14
        }
      ]
    },
    {
      "cell_type": "markdown",
      "source": [
        "#Tokenize by Sentence"
      ],
      "metadata": {
        "id": "08Uf_tOfcxU0"
      }
    },
    {
      "cell_type": "code",
      "source": [
        "def tokenize_by_sentence(text: str) -> str:\n",
        "    return text.str.split('.')\n",
        "\n",
        "text_tokenize_sentence = text.apply(tokenize_by_sentence)\n",
        "for c, tts in enumerate(text_tokenize_sentence.Text):\n",
        "    print(tts)\n",
        "    print(\"\\n\")\n",
        "    print(\"ORIGINAL:\", text.Text[c])\n",
        "    print(\"----\")"
      ],
      "metadata": {
        "colab": {
          "base_uri": "https://localhost:8080/"
        },
        "id": "O-zN1BAmcyHB",
        "outputId": "d2352fab-0837-441d-ce39-6560a156aa4f"
      },
      "execution_count": null,
      "outputs": [
        {
          "output_type": "stream",
          "name": "stdout",
          "text": [
            "['https://en', 'wikipedia', 'org/wiki/Elon_Musk']\n",
            "\n",
            "\n",
            "ORIGINAL: https://en.wikipedia.org/wiki/Elon_Musk\n",
            "----\n",
            "['Elon Reeve Musk FRS (/?i?l?n/ EE-lon; born June 28, 1971) is a business magnate, investor and philanthropist', ' He is the founder, CEO and Chief Engineer at SpaceX; angel investor, CEO and Product Architect of Tesla, Inc', '; founder of The Boring Company; and co-founder of Neuralink and OpenAI', ' With an estimated net worth of around US$265 billion as of May 2022,[4] Musk is the wealthiest person in the world according to both the Bloomberg Billionaires Index and the Forbes real-time billionaires list', '[5][6]']\n",
            "\n",
            "\n",
            "ORIGINAL: Elon Reeve Musk FRS (/?i?l?n/ EE-lon; born June 28, 1971) is a business magnate, investor and philanthropist. He is the founder, CEO and Chief Engineer at SpaceX; angel investor, CEO and Product Architect of Tesla, Inc.; founder of The Boring Company; and co-founder of Neuralink and OpenAI. With an estimated net worth of around US$265 billion as of May 2022,[4] Musk is the wealthiest person in the world according to both the Bloomberg Billionaires Index and the Forbes real-time billionaires list.[5][6]\n",
            "----\n",
            "['Musk was born to a Canadian mother and White South African father, and raised in Pretoria, South Africa', ' He briefly attended the University of Pretoria before moving to Canada at age 17', \" He matriculated at Queen's University and transferred to the University of Pennsylvania two years later, where he received a bachelor's degree in Economics and Physics\", ' He moved to California in 1995 to attend Stanford University but decided instead to pursue a business career, co-founding the web software company Zip2 with his brother Kimbal', ' The startup was acquired by Compaq for $307 million in 1999', ' The same year, Musk co-founded online bank X', 'com, which merged with Confinity in 2000 to form PayPal', ' The company was bought by eBay in 2002 for $1', '5 billion', '']\n",
            "\n",
            "\n",
            "ORIGINAL: Musk was born to a Canadian mother and White South African father, and raised in Pretoria, South Africa. He briefly attended the University of Pretoria before moving to Canada at age 17. He matriculated at Queen's University and transferred to the University of Pennsylvania two years later, where he received a bachelor's degree in Economics and Physics. He moved to California in 1995 to attend Stanford University but decided instead to pursue a business career, co-founding the web software company Zip2 with his brother Kimbal. The startup was acquired by Compaq for $307 million in 1999. The same year, Musk co-founded online bank X.com, which merged with Confinity in 2000 to form PayPal. The company was bought by eBay in 2002 for $1.5 billion.\n",
            "----\n",
            "['In 2002, Musk founded SpaceX, an aerospace manufacturer and space transport services company, of which he serves as CEO and Chief Engineer', ' In 2004, he joined electric vehicle manufacturer Tesla Motors, Inc', ' (now Tesla, Inc', ') as chairman and product architect, eventually assuming the position of CEO in 2008', ' In 2006, he helped create SolarCity, a solar energy company that was later acquired by Tesla and became Tesla Energy', ' In 2015, he co-founded OpenAI, a nonprofit research company that promotes friendly artificial intelligence (AI)', ' In 2016, he co-founded Neuralink, a neurotechnology company focused on developing brain–computer interfaces, and founded The Boring Company, a tunnel construction company', ' He also agreed to purchase the major American social networking service Twitter in 2022 for $44 billion', ' Musk has proposed the Hyperloop, a high-speed vactrain transportation system', ' He is the president of the Musk Foundation, an organization which donates to scientific research and education', '']\n",
            "\n",
            "\n",
            "ORIGINAL: In 2002, Musk founded SpaceX, an aerospace manufacturer and space transport services company, of which he serves as CEO and Chief Engineer. In 2004, he joined electric vehicle manufacturer Tesla Motors, Inc. (now Tesla, Inc.) as chairman and product architect, eventually assuming the position of CEO in 2008. In 2006, he helped create SolarCity, a solar energy company that was later acquired by Tesla and became Tesla Energy. In 2015, he co-founded OpenAI, a nonprofit research company that promotes friendly artificial intelligence (AI). In 2016, he co-founded Neuralink, a neurotechnology company focused on developing brain–computer interfaces, and founded The Boring Company, a tunnel construction company. He also agreed to purchase the major American social networking service Twitter in 2022 for $44 billion. Musk has proposed the Hyperloop, a high-speed vactrain transportation system. He is the president of the Musk Foundation, an organization which donates to scientific research and education.\n",
            "----\n",
            "['Musk has been criticized for making unscientific and controversial statements, such as spreading misinformation about the COVID-19 pandemic', ' In 2018, he was sued by the US Securities and Exchange Commission (SEC) for falsely tweeting that he had secured funding for a private takeover of Tesla; he settled with the SEC but did not admit guilt, and temporarily stepped down from his Tesla chairmanship', ' In 2019, he won a defamation case brought against him by a British caver who had advised in the Tham Luang cave rescue', '']\n",
            "\n",
            "\n",
            "ORIGINAL: Musk has been criticized for making unscientific and controversial statements, such as spreading misinformation about the COVID-19 pandemic. In 2018, he was sued by the US Securities and Exchange Commission (SEC) for falsely tweeting that he had secured funding for a private takeover of Tesla; he settled with the SEC but did not admit guilt, and temporarily stepped down from his Tesla chairmanship. In 2019, he won a defamation case brought against him by a British caver who had advised in the Tham Luang cave rescue.\n",
            "----\n"
          ]
        }
      ]
    },
    {
      "cell_type": "markdown",
      "source": [
        "#Stemming & Lemmatization\n",
        "with nltk"
      ],
      "metadata": {
        "id": "--Oez1cgc5Hn"
      }
    },
    {
      "cell_type": "code",
      "source": [
        "import nltk"
      ],
      "metadata": {
        "id": "Vsmuj8BWc5kh"
      },
      "execution_count": null,
      "outputs": []
    },
    {
      "cell_type": "code",
      "source": [
        "from nltk.tokenize import sent_tokenize, word_tokenize\n",
        "from nltk.stem import PorterStemmer\n",
        "def stemSentence(sentence):\n",
        "    \"Function obtained: https://www.datacamp.com/tutorial/stemming-lemmatization-python\"\n",
        "    porter = PorterStemmer()\n",
        "    token_words=word_tokenize(sentence) # Stemming works on a token by token basis (not sentences or paragraphs)\n",
        "    token_words\n",
        "    stem_sentence=[]\n",
        "    for word in token_words:\n",
        "        stem_sentence.append(porter.stem(word))\n",
        "        stem_sentence.append(\" \")\n",
        "    return \"\".join(stem_sentence)"
      ],
      "metadata": {
        "id": "aOT12GFIc7WO"
      },
      "execution_count": null,
      "outputs": []
    },
    {
      "cell_type": "code",
      "source": [
        "print(text.Text[1])\n",
        "print(\"-----\")\n",
        "x=stemSentence(text.Text[1])\n",
        "print(x)"
      ],
      "metadata": {
        "colab": {
          "base_uri": "https://localhost:8080/",
          "height": 830
        },
        "id": "l48kF-4Xc-jv",
        "outputId": "1274631f-e497-46dc-969f-72f889f2fadb"
      },
      "execution_count": null,
      "outputs": [
        {
          "output_type": "stream",
          "name": "stdout",
          "text": [
            "Elon Reeve Musk FRS (/?i?l?n/ EE-lon; born June 28, 1971) is a business magnate, investor and philanthropist. He is the founder, CEO and Chief Engineer at SpaceX; angel investor, CEO and Product Architect of Tesla, Inc.; founder of The Boring Company; and co-founder of Neuralink and OpenAI. With an estimated net worth of around US$265 billion as of May 2022,[4] Musk is the wealthiest person in the world according to both the Bloomberg Billionaires Index and the Forbes real-time billionaires list.[5][6]\n",
            "-----\n"
          ]
        },
        {
          "output_type": "error",
          "ename": "LookupError",
          "evalue": "\n**********************************************************************\n  Resource \u001b[93mpunkt\u001b[0m not found.\n  Please use the NLTK Downloader to obtain the resource:\n\n  \u001b[31m>>> import nltk\n  >>> nltk.download('punkt')\n  \u001b[0m\n  For more information see: https://www.nltk.org/data.html\n\n  Attempted to load \u001b[93mtokenizers/punkt/PY3/english.pickle\u001b[0m\n\n  Searched in:\n    - '/root/nltk_data'\n    - '/usr/nltk_data'\n    - '/usr/share/nltk_data'\n    - '/usr/lib/nltk_data'\n    - '/usr/share/nltk_data'\n    - '/usr/local/share/nltk_data'\n    - '/usr/lib/nltk_data'\n    - '/usr/local/lib/nltk_data'\n    - ''\n**********************************************************************\n",
          "traceback": [
            "\u001b[0;31m---------------------------------------------------------------------------\u001b[0m",
            "\u001b[0;31mLookupError\u001b[0m                               Traceback (most recent call last)",
            "\u001b[0;32m<ipython-input-19-70f3e3e39be9>\u001b[0m in \u001b[0;36m<cell line: 3>\u001b[0;34m()\u001b[0m\n\u001b[1;32m      1\u001b[0m \u001b[0mprint\u001b[0m\u001b[0;34m(\u001b[0m\u001b[0mtext\u001b[0m\u001b[0;34m.\u001b[0m\u001b[0mText\u001b[0m\u001b[0;34m[\u001b[0m\u001b[0;36m1\u001b[0m\u001b[0;34m]\u001b[0m\u001b[0;34m)\u001b[0m\u001b[0;34m\u001b[0m\u001b[0;34m\u001b[0m\u001b[0m\n\u001b[1;32m      2\u001b[0m \u001b[0mprint\u001b[0m\u001b[0;34m(\u001b[0m\u001b[0;34m\"-----\"\u001b[0m\u001b[0;34m)\u001b[0m\u001b[0;34m\u001b[0m\u001b[0;34m\u001b[0m\u001b[0m\n\u001b[0;32m----> 3\u001b[0;31m \u001b[0mx\u001b[0m\u001b[0;34m=\u001b[0m\u001b[0mstemSentence\u001b[0m\u001b[0;34m(\u001b[0m\u001b[0mtext\u001b[0m\u001b[0;34m.\u001b[0m\u001b[0mText\u001b[0m\u001b[0;34m[\u001b[0m\u001b[0;36m1\u001b[0m\u001b[0;34m]\u001b[0m\u001b[0;34m)\u001b[0m\u001b[0;34m\u001b[0m\u001b[0;34m\u001b[0m\u001b[0m\n\u001b[0m\u001b[1;32m      4\u001b[0m \u001b[0mprint\u001b[0m\u001b[0;34m(\u001b[0m\u001b[0mx\u001b[0m\u001b[0;34m)\u001b[0m\u001b[0;34m\u001b[0m\u001b[0;34m\u001b[0m\u001b[0m\n",
            "\u001b[0;32m<ipython-input-18-9f255ace072c>\u001b[0m in \u001b[0;36mstemSentence\u001b[0;34m(sentence)\u001b[0m\n\u001b[1;32m      4\u001b[0m     \u001b[0;34m\"Function obtained: https://www.datacamp.com/tutorial/stemming-lemmatization-python\"\u001b[0m\u001b[0;34m\u001b[0m\u001b[0;34m\u001b[0m\u001b[0m\n\u001b[1;32m      5\u001b[0m     \u001b[0mporter\u001b[0m \u001b[0;34m=\u001b[0m \u001b[0mPorterStemmer\u001b[0m\u001b[0;34m(\u001b[0m\u001b[0;34m)\u001b[0m\u001b[0;34m\u001b[0m\u001b[0;34m\u001b[0m\u001b[0m\n\u001b[0;32m----> 6\u001b[0;31m     \u001b[0mtoken_words\u001b[0m\u001b[0;34m=\u001b[0m\u001b[0mword_tokenize\u001b[0m\u001b[0;34m(\u001b[0m\u001b[0msentence\u001b[0m\u001b[0;34m)\u001b[0m \u001b[0;31m# Stemming works on a token by token basis (not sentences or paragraphs)\u001b[0m\u001b[0;34m\u001b[0m\u001b[0;34m\u001b[0m\u001b[0m\n\u001b[0m\u001b[1;32m      7\u001b[0m     \u001b[0mtoken_words\u001b[0m\u001b[0;34m\u001b[0m\u001b[0;34m\u001b[0m\u001b[0m\n\u001b[1;32m      8\u001b[0m     \u001b[0mstem_sentence\u001b[0m\u001b[0;34m=\u001b[0m\u001b[0;34m[\u001b[0m\u001b[0;34m]\u001b[0m\u001b[0;34m\u001b[0m\u001b[0;34m\u001b[0m\u001b[0m\n",
            "\u001b[0;32m/usr/local/lib/python3.10/dist-packages/nltk/tokenize/__init__.py\u001b[0m in \u001b[0;36mword_tokenize\u001b[0;34m(text, language, preserve_line)\u001b[0m\n\u001b[1;32m    127\u001b[0m     \u001b[0;34m:\u001b[0m\u001b[0mtype\u001b[0m \u001b[0mpreserve_line\u001b[0m\u001b[0;34m:\u001b[0m \u001b[0mbool\u001b[0m\u001b[0;34m\u001b[0m\u001b[0;34m\u001b[0m\u001b[0m\n\u001b[1;32m    128\u001b[0m     \"\"\"\n\u001b[0;32m--> 129\u001b[0;31m     \u001b[0msentences\u001b[0m \u001b[0;34m=\u001b[0m \u001b[0;34m[\u001b[0m\u001b[0mtext\u001b[0m\u001b[0;34m]\u001b[0m \u001b[0;32mif\u001b[0m \u001b[0mpreserve_line\u001b[0m \u001b[0;32melse\u001b[0m \u001b[0msent_tokenize\u001b[0m\u001b[0;34m(\u001b[0m\u001b[0mtext\u001b[0m\u001b[0;34m,\u001b[0m \u001b[0mlanguage\u001b[0m\u001b[0;34m)\u001b[0m\u001b[0;34m\u001b[0m\u001b[0;34m\u001b[0m\u001b[0m\n\u001b[0m\u001b[1;32m    130\u001b[0m     return [\n\u001b[1;32m    131\u001b[0m         \u001b[0mtoken\u001b[0m \u001b[0;32mfor\u001b[0m \u001b[0msent\u001b[0m \u001b[0;32min\u001b[0m \u001b[0msentences\u001b[0m \u001b[0;32mfor\u001b[0m \u001b[0mtoken\u001b[0m \u001b[0;32min\u001b[0m \u001b[0m_treebank_word_tokenizer\u001b[0m\u001b[0;34m.\u001b[0m\u001b[0mtokenize\u001b[0m\u001b[0;34m(\u001b[0m\u001b[0msent\u001b[0m\u001b[0;34m)\u001b[0m\u001b[0;34m\u001b[0m\u001b[0;34m\u001b[0m\u001b[0m\n",
            "\u001b[0;32m/usr/local/lib/python3.10/dist-packages/nltk/tokenize/__init__.py\u001b[0m in \u001b[0;36msent_tokenize\u001b[0;34m(text, language)\u001b[0m\n\u001b[1;32m    104\u001b[0m     \u001b[0;34m:\u001b[0m\u001b[0mparam\u001b[0m \u001b[0mlanguage\u001b[0m\u001b[0;34m:\u001b[0m \u001b[0mthe\u001b[0m \u001b[0mmodel\u001b[0m \u001b[0mname\u001b[0m \u001b[0;32min\u001b[0m \u001b[0mthe\u001b[0m \u001b[0mPunkt\u001b[0m \u001b[0mcorpus\u001b[0m\u001b[0;34m\u001b[0m\u001b[0;34m\u001b[0m\u001b[0m\n\u001b[1;32m    105\u001b[0m     \"\"\"\n\u001b[0;32m--> 106\u001b[0;31m     \u001b[0mtokenizer\u001b[0m \u001b[0;34m=\u001b[0m \u001b[0mload\u001b[0m\u001b[0;34m(\u001b[0m\u001b[0;34mf\"tokenizers/punkt/{language}.pickle\"\u001b[0m\u001b[0;34m)\u001b[0m\u001b[0;34m\u001b[0m\u001b[0;34m\u001b[0m\u001b[0m\n\u001b[0m\u001b[1;32m    107\u001b[0m     \u001b[0;32mreturn\u001b[0m \u001b[0mtokenizer\u001b[0m\u001b[0;34m.\u001b[0m\u001b[0mtokenize\u001b[0m\u001b[0;34m(\u001b[0m\u001b[0mtext\u001b[0m\u001b[0;34m)\u001b[0m\u001b[0;34m\u001b[0m\u001b[0;34m\u001b[0m\u001b[0m\n\u001b[1;32m    108\u001b[0m \u001b[0;34m\u001b[0m\u001b[0m\n",
            "\u001b[0;32m/usr/local/lib/python3.10/dist-packages/nltk/data.py\u001b[0m in \u001b[0;36mload\u001b[0;34m(resource_url, format, cache, verbose, logic_parser, fstruct_reader, encoding)\u001b[0m\n\u001b[1;32m    748\u001b[0m \u001b[0;34m\u001b[0m\u001b[0m\n\u001b[1;32m    749\u001b[0m     \u001b[0;31m# Load the resource.\u001b[0m\u001b[0;34m\u001b[0m\u001b[0;34m\u001b[0m\u001b[0m\n\u001b[0;32m--> 750\u001b[0;31m     \u001b[0mopened_resource\u001b[0m \u001b[0;34m=\u001b[0m \u001b[0m_open\u001b[0m\u001b[0;34m(\u001b[0m\u001b[0mresource_url\u001b[0m\u001b[0;34m)\u001b[0m\u001b[0;34m\u001b[0m\u001b[0;34m\u001b[0m\u001b[0m\n\u001b[0m\u001b[1;32m    751\u001b[0m \u001b[0;34m\u001b[0m\u001b[0m\n\u001b[1;32m    752\u001b[0m     \u001b[0;32mif\u001b[0m \u001b[0mformat\u001b[0m \u001b[0;34m==\u001b[0m \u001b[0;34m\"raw\"\u001b[0m\u001b[0;34m:\u001b[0m\u001b[0;34m\u001b[0m\u001b[0;34m\u001b[0m\u001b[0m\n",
            "\u001b[0;32m/usr/local/lib/python3.10/dist-packages/nltk/data.py\u001b[0m in \u001b[0;36m_open\u001b[0;34m(resource_url)\u001b[0m\n\u001b[1;32m    874\u001b[0m \u001b[0;34m\u001b[0m\u001b[0m\n\u001b[1;32m    875\u001b[0m     \u001b[0;32mif\u001b[0m \u001b[0mprotocol\u001b[0m \u001b[0;32mis\u001b[0m \u001b[0;32mNone\u001b[0m \u001b[0;32mor\u001b[0m \u001b[0mprotocol\u001b[0m\u001b[0;34m.\u001b[0m\u001b[0mlower\u001b[0m\u001b[0;34m(\u001b[0m\u001b[0;34m)\u001b[0m \u001b[0;34m==\u001b[0m \u001b[0;34m\"nltk\"\u001b[0m\u001b[0;34m:\u001b[0m\u001b[0;34m\u001b[0m\u001b[0;34m\u001b[0m\u001b[0m\n\u001b[0;32m--> 876\u001b[0;31m         \u001b[0;32mreturn\u001b[0m \u001b[0mfind\u001b[0m\u001b[0;34m(\u001b[0m\u001b[0mpath_\u001b[0m\u001b[0;34m,\u001b[0m \u001b[0mpath\u001b[0m \u001b[0;34m+\u001b[0m \u001b[0;34m[\u001b[0m\u001b[0;34m\"\"\u001b[0m\u001b[0;34m]\u001b[0m\u001b[0;34m)\u001b[0m\u001b[0;34m.\u001b[0m\u001b[0mopen\u001b[0m\u001b[0;34m(\u001b[0m\u001b[0;34m)\u001b[0m\u001b[0;34m\u001b[0m\u001b[0;34m\u001b[0m\u001b[0m\n\u001b[0m\u001b[1;32m    877\u001b[0m     \u001b[0;32melif\u001b[0m \u001b[0mprotocol\u001b[0m\u001b[0;34m.\u001b[0m\u001b[0mlower\u001b[0m\u001b[0;34m(\u001b[0m\u001b[0;34m)\u001b[0m \u001b[0;34m==\u001b[0m \u001b[0;34m\"file\"\u001b[0m\u001b[0;34m:\u001b[0m\u001b[0;34m\u001b[0m\u001b[0;34m\u001b[0m\u001b[0m\n\u001b[1;32m    878\u001b[0m         \u001b[0;31m# urllib might not use mode='rb', so handle this one ourselves:\u001b[0m\u001b[0;34m\u001b[0m\u001b[0;34m\u001b[0m\u001b[0m\n",
            "\u001b[0;32m/usr/local/lib/python3.10/dist-packages/nltk/data.py\u001b[0m in \u001b[0;36mfind\u001b[0;34m(resource_name, paths)\u001b[0m\n\u001b[1;32m    581\u001b[0m     \u001b[0msep\u001b[0m \u001b[0;34m=\u001b[0m \u001b[0;34m\"*\"\u001b[0m \u001b[0;34m*\u001b[0m \u001b[0;36m70\u001b[0m\u001b[0;34m\u001b[0m\u001b[0;34m\u001b[0m\u001b[0m\n\u001b[1;32m    582\u001b[0m     \u001b[0mresource_not_found\u001b[0m \u001b[0;34m=\u001b[0m \u001b[0;34mf\"\\n{sep}\\n{msg}\\n{sep}\\n\"\u001b[0m\u001b[0;34m\u001b[0m\u001b[0;34m\u001b[0m\u001b[0m\n\u001b[0;32m--> 583\u001b[0;31m     \u001b[0;32mraise\u001b[0m \u001b[0mLookupError\u001b[0m\u001b[0;34m(\u001b[0m\u001b[0mresource_not_found\u001b[0m\u001b[0;34m)\u001b[0m\u001b[0;34m\u001b[0m\u001b[0;34m\u001b[0m\u001b[0m\n\u001b[0m\u001b[1;32m    584\u001b[0m \u001b[0;34m\u001b[0m\u001b[0m\n\u001b[1;32m    585\u001b[0m \u001b[0;34m\u001b[0m\u001b[0m\n",
            "\u001b[0;31mLookupError\u001b[0m: \n**********************************************************************\n  Resource \u001b[93mpunkt\u001b[0m not found.\n  Please use the NLTK Downloader to obtain the resource:\n\n  \u001b[31m>>> import nltk\n  >>> nltk.download('punkt')\n  \u001b[0m\n  For more information see: https://www.nltk.org/data.html\n\n  Attempted to load \u001b[93mtokenizers/punkt/PY3/english.pickle\u001b[0m\n\n  Searched in:\n    - '/root/nltk_data'\n    - '/usr/nltk_data'\n    - '/usr/share/nltk_data'\n    - '/usr/lib/nltk_data'\n    - '/usr/share/nltk_data'\n    - '/usr/local/share/nltk_data'\n    - '/usr/lib/nltk_data'\n    - '/usr/local/lib/nltk_data'\n    - ''\n**********************************************************************\n"
          ]
        }
      ]
    },
    {
      "cell_type": "markdown",
      "source": [
        "#Lemma with spacy\n",
        "spaCy does not contain a stemming function\n"
      ],
      "metadata": {
        "id": "p8h9bM7ZdFVO"
      }
    },
    {
      "cell_type": "code",
      "source": [
        "import spacy\n",
        "nlp = spacy.load('en_core_web_sm')"
      ],
      "metadata": {
        "id": "-0UBhqp6dJZ0"
      },
      "execution_count": null,
      "outputs": []
    },
    {
      "cell_type": "code",
      "source": [
        "doc = nlp(text.Text[1])\n",
        "to_return_token_lemma_ = []\n",
        "for token in doc:\n",
        "    print(token, token.lemma, token.lemma_)\n",
        "    to_return_token_lemma_.append(token.lemma_)"
      ],
      "metadata": {
        "colab": {
          "base_uri": "https://localhost:8080/"
        },
        "id": "GZowgr4bdM93",
        "outputId": "9e2a04d1-147b-4c89-ec25-308ebc448f12"
      },
      "execution_count": null,
      "outputs": [
        {
          "output_type": "stream",
          "name": "stdout",
          "text": [
            "Elon 2198773752619493627 Elon\n",
            "Reeve 13919731772306190389 Reeve\n",
            "Musk 9701546712838649011 Musk\n",
            "FRS 11700442633786364558 FRS\n",
            "( 12638816674900267446 (\n",
            "/?i?l?n/ 17530719667350714435 /?i?l?n/\n",
            "EE 6702891753683598627 EE\n",
            "- 9153284864653046197 -\n",
            "lon 1179692691768717486 lon\n",
            "; 631425121691394544 ;\n",
            "born 3737373500888618661 bear\n",
            "June 187940016428511799 June\n",
            "28 5782640844011333142 28\n",
            ", 2593208677638477497 ,\n",
            "1971 17581738970773819521 1971\n",
            ") 3842344029291005339 )\n",
            "is 10382539506755952630 be\n",
            "a 11901859001352538922 a\n",
            "business 8928139183970412233 business\n",
            "magnate 8022690600608319835 magnate\n",
            ", 2593208677638477497 ,\n",
            "investor 1023836332520908783 investor\n",
            "and 2283656566040971221 and\n",
            "philanthropist 16520720950329356535 philanthropist\n",
            ". 12646065887601541794 .\n",
            "He 1655312771067108281 he\n",
            "is 10382539506755952630 be\n",
            "the 7425985699627899538 the\n",
            "founder 4354848742269768285 founder\n",
            ", 2593208677638477497 ,\n",
            "CEO 18074202468665715823 CEO\n",
            "and 2283656566040971221 and\n",
            "Chief 9615737558093935814 Chief\n",
            "Engineer 7029714065625710103 Engineer\n",
            "at 11667289587015813222 at\n",
            "SpaceX 6931802215241765174 SpaceX\n",
            "; 631425121691394544 ;\n",
            "angel 7158399702108520713 angel\n",
            "investor 1023836332520908783 investor\n",
            ", 2593208677638477497 ,\n",
            "CEO 18285542385449738063 ceo\n",
            "and 2283656566040971221 and\n",
            "Product 16898055450696666743 Product\n",
            "Architect 9579531980886234441 Architect\n",
            "of 886050111519832510 of\n",
            "Tesla 989884730879938440 Tesla\n",
            ", 2593208677638477497 ,\n",
            "Inc. 11367013928689839740 Inc.\n",
            "; 631425121691394544 ;\n",
            "founder 4354848742269768285 founder\n",
            "of 886050111519832510 of\n",
            "The 7425985699627899538 the\n",
            "Boring 1651417047301500353 Boring\n",
            "Company 11799161737614519447 Company\n",
            "; 631425121691394544 ;\n",
            "and 2283656566040971221 and\n",
            "co 1390402870290659690 co\n",
            "- 9153284864653046197 -\n",
            "founder 4354848742269768285 founder\n",
            "of 886050111519832510 of\n",
            "Neuralink 91212654446840995 Neuralink\n",
            "and 2283656566040971221 and\n",
            "OpenAI 14806205001476731546 OpenAI\n",
            ". 12646065887601541794 .\n",
            "With 12510949447758279278 with\n",
            "an 15099054000809333061 an\n",
            "estimated 16474155047323621775 estimate\n",
            "net 2297266526497069708 net\n",
            "worth 12282438651404021516 worth\n",
            "of 886050111519832510 of\n",
            "around 3194226484742107227 around\n",
            "US$ 3742757416763697233 us$\n",
            "265 14335270308318457839 265\n",
            "billion 1231493654637052630 billion\n",
            "as 7437575085468336610 as\n",
            "of 886050111519832510 of\n",
            "May 16318331901196153511 May\n",
            "2022,[4 12548289086445442996 2022,[4\n",
            "] 3806482680584466996 ]\n",
            "Musk 9701546712838649011 Musk\n",
            "is 10382539506755952630 be\n",
            "the 7425985699627899538 the\n",
            "wealthiest 32112434391901252 wealthy\n",
            "person 14800503047316267216 person\n",
            "in 3002984154512732771 in\n",
            "the 7425985699627899538 the\n",
            "world 1703489418272052182 world\n",
            "according 701735504652304602 accord\n",
            "to 3791531372978436496 to\n",
            "both 7111508780595485950 both\n",
            "the 7425985699627899538 the\n",
            "Bloomberg 9232652597899099629 Bloomberg\n",
            "Billionaires 263403413558312920 Billionaires\n",
            "Index 8354427534084475834 Index\n",
            "and 2283656566040971221 and\n",
            "the 7425985699627899538 the\n",
            "Forbes 4868103608457773474 Forbes\n",
            "real 7050692189315705983 real\n",
            "- 9153284864653046197 -\n",
            "time 8885804376230376864 time\n",
            "billionaires 2665018686965387006 billionaire\n",
            "list.[5][6 17685871745236946393 list.[5][6\n",
            "] 3806482680584466996 ]\n"
          ]
        }
      ]
    },
    {
      "cell_type": "code",
      "source": [
        "text.Text[1]"
      ],
      "metadata": {
        "colab": {
          "base_uri": "https://localhost:8080/",
          "height": 107
        },
        "id": "0NplEhwTdPVQ",
        "outputId": "a6b32ae3-a780-4b43-ac1d-9b0f00e6747c"
      },
      "execution_count": null,
      "outputs": [
        {
          "output_type": "execute_result",
          "data": {
            "text/plain": [
              "'Elon Reeve Musk FRS (/?i?l?n/ EE-lon; born June 28, 1971) is a business magnate, investor and philanthropist. He is the founder, CEO and Chief Engineer at SpaceX; angel investor, CEO and Product Architect of Tesla, Inc.; founder of The Boring Company; and co-founder of Neuralink and OpenAI. With an estimated net worth of around US$265 billion as of May 2022,[4] Musk is the wealthiest person in the world according to both the Bloomberg Billionaires Index and the Forbes real-time billionaires list.[5][6]'"
            ],
            "application/vnd.google.colaboratory.intrinsic+json": {
              "type": "string"
            }
          },
          "metadata": {},
          "execution_count": 22
        }
      ]
    },
    {
      "cell_type": "code",
      "source": [
        "\" \".join(to_return_token_lemma_)"
      ],
      "metadata": {
        "colab": {
          "base_uri": "https://localhost:8080/",
          "height": 107
        },
        "id": "74RfLPdLdPrV",
        "outputId": "9aef142b-0485-4937-ea13-03cb207e606f"
      },
      "execution_count": null,
      "outputs": [
        {
          "output_type": "execute_result",
          "data": {
            "text/plain": [
              "'Elon Reeve Musk FRS ( /?i?l?n/ EE - lon ; bear June 28 , 1971 ) be a business magnate , investor and philanthropist . he be the founder , CEO and Chief Engineer at SpaceX ; angel investor , ceo and Product Architect of Tesla , Inc. ; founder of the Boring Company ; and co - founder of Neuralink and OpenAI . with an estimate net worth of around us$ 265 billion as of May 2022,[4 ] Musk be the wealthy person in the world accord to both the Bloomberg Billionaires Index and the Forbes real - time billionaire list.[5][6 ]'"
            ],
            "application/vnd.google.colaboratory.intrinsic+json": {
              "type": "string"
            }
          },
          "metadata": {},
          "execution_count": 23
        }
      ]
    }
  ]
}