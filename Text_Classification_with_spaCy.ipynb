{
  "nbformat": 4,
  "nbformat_minor": 0,
  "metadata": {
    "colab": {
      "provenance": [],
      "toc_visible": true,
      "gpuType": "T4",
      "authorship_tag": "ABX9TyMLPk6B3jNm1z/OnFzPanAN"
    },
    "kernelspec": {
      "name": "python3",
      "display_name": "Python 3"
    },
    "language_info": {
      "name": "python"
    },
    "accelerator": "GPU"
  },
  "cells": [
    {
      "cell_type": "code",
      "execution_count": null,
      "metadata": {
        "id": "gfCFhraRj4pr"
      },
      "outputs": [],
      "source": [
        "import numpy as np  # numpy package is for fast numerical computation in Python\n",
        "import spacy\n",
        "from sklearn.datasets import fetch_20newsgroups  # import \\\\n    packages which help us download dataset and load intp python\n",
        "from sklearn.pipeline import Pipeline"
      ]
    },
    {
      "cell_type": "markdown",
      "source": [
        "#Data\n",
        "Load the filenames and data from the 20 newsgroups dataset\n",
        "\n",
        "This will download the datasets if you don't have them already"
      ],
      "metadata": {
        "id": "HfnLxRokkHp3"
      }
    },
    {
      "cell_type": "code",
      "source": [
        "twenty_train = fetch_20newsgroups(\n",
        "    subset=\"train\", shuffle=True, download_if_missing=True\n",
        ")\n",
        "twenty_test = fetch_20newsgroups(subset=\"test\", shuffle=True, download_if_missing=True)"
      ],
      "metadata": {
        "id": "KJmEosoAkMFO"
      },
      "execution_count": null,
      "outputs": []
    },
    {
      "cell_type": "markdown",
      "source": [
        "##Check Data"
      ],
      "metadata": {
        "id": "FZp90FFSkP_u"
      }
    },
    {
      "cell_type": "code",
      "source": [
        "twenty_train.data[:2]"
      ],
      "metadata": {
        "colab": {
          "base_uri": "https://localhost:8080/"
        },
        "id": "IkA8oeO3kRon",
        "outputId": "8ef381ac-6c84-40ec-b470-5a79acae42f4"
      },
      "execution_count": null,
      "outputs": [
        {
          "output_type": "execute_result",
          "data": {
            "text/plain": [
              "[\"From: lerxst@wam.umd.edu (where's my thing)\\nSubject: WHAT car is this!?\\nNntp-Posting-Host: rac3.wam.umd.edu\\nOrganization: University of Maryland, College Park\\nLines: 15\\n\\n I was wondering if anyone out there could enlighten me on this car I saw\\nthe other day. It was a 2-door sports car, looked to be from the late 60s/\\nearly 70s. It was called a Bricklin. The doors were really small. In addition,\\nthe front bumper was separate from the rest of the body. This is \\nall I know. If anyone can tellme a model name, engine specs, years\\nof production, where this car is made, history, or whatever info you\\nhave on this funky looking car, please e-mail.\\n\\nThanks,\\n- IL\\n   ---- brought to you by your neighborhood Lerxst ----\\n\\n\\n\\n\\n\",\n",
              " \"From: guykuo@carson.u.washington.edu (Guy Kuo)\\nSubject: SI Clock Poll - Final Call\\nSummary: Final call for SI clock reports\\nKeywords: SI,acceleration,clock,upgrade\\nArticle-I.D.: shelley.1qvfo9INNc3s\\nOrganization: University of Washington\\nLines: 11\\nNNTP-Posting-Host: carson.u.washington.edu\\n\\nA fair number of brave souls who upgraded their SI clock oscillator have\\nshared their experiences for this poll. Please send a brief message detailing\\nyour experiences with the procedure. Top speed attained, CPU rated speed,\\nadd on cards and adapters, heat sinks, hour of usage per day, floppy disk\\nfunctionality with 800 and 1.4 m floppies are especially requested.\\n\\nI will be summarizing in the next two days, so please add to the network\\nknowledge base if you have done the clock upgrade and haven't answered this\\npoll. Thanks.\\n\\nGuy Kuo <guykuo@u.washington.edu>\\n\"]"
            ]
          },
          "metadata": {},
          "execution_count": 3
        }
      ]
    },
    {
      "cell_type": "markdown",
      "source": [
        "###Check target_names"
      ],
      "metadata": {
        "id": "fyzWBjDjkU3I"
      }
    },
    {
      "cell_type": "code",
      "source": [
        "twenty_train.target_names"
      ],
      "metadata": {
        "colab": {
          "base_uri": "https://localhost:8080/"
        },
        "id": "QiSDruI9kW_e",
        "outputId": "43d35568-01c3-47ad-86cd-dee01cc66ed4"
      },
      "execution_count": null,
      "outputs": [
        {
          "output_type": "execute_result",
          "data": {
            "text/plain": [
              "['alt.atheism',\n",
              " 'comp.graphics',\n",
              " 'comp.os.ms-windows.misc',\n",
              " 'comp.sys.ibm.pc.hardware',\n",
              " 'comp.sys.mac.hardware',\n",
              " 'comp.windows.x',\n",
              " 'misc.forsale',\n",
              " 'rec.autos',\n",
              " 'rec.motorcycles',\n",
              " 'rec.sport.baseball',\n",
              " 'rec.sport.hockey',\n",
              " 'sci.crypt',\n",
              " 'sci.electronics',\n",
              " 'sci.med',\n",
              " 'sci.space',\n",
              " 'soc.religion.christian',\n",
              " 'talk.politics.guns',\n",
              " 'talk.politics.mideast',\n",
              " 'talk.politics.misc',\n",
              " 'talk.religion.misc']"
            ]
          },
          "metadata": {},
          "execution_count": 4
        }
      ]
    },
    {
      "cell_type": "markdown",
      "source": [
        "#Convert text to numbers\n",
        "CountVectorizer"
      ],
      "metadata": {
        "id": "kc431l5TkZyq"
      }
    },
    {
      "cell_type": "code",
      "source": [
        "from sklearn.feature_extraction.text import CountVectorizer\n",
        "\n",
        "count_vect = CountVectorizer()\n",
        "X_train_counts = count_vect.fit_transform(twenty_train.data)\n",
        "print(f\"Shape of Term Frequency Matrix: {X_train_counts.shape}\")"
      ],
      "metadata": {
        "colab": {
          "base_uri": "https://localhost:8080/"
        },
        "id": "4fvi8U7HkfCn",
        "outputId": "05d710df-fdd4-4baf-ff1a-d433788b6ce1"
      },
      "execution_count": null,
      "outputs": [
        {
          "output_type": "stream",
          "name": "stdout",
          "text": [
            "Shape of Term Frequency Matrix: (11314, 130107)\n"
          ]
        }
      ]
    },
    {
      "cell_type": "markdown",
      "source": [
        "##Tfidf"
      ],
      "metadata": {
        "id": "eJRy_jU6kkWq"
      }
    },
    {
      "cell_type": "code",
      "source": [
        "from sklearn.feature_extraction.text import TfidfTransformer\n",
        "\n",
        "tfidf_transformer = TfidfTransformer()\n",
        "X_train_tfidf = tfidf_transformer.fit_transform(X_train_counts)\n",
        "print(f\"Shape of TFIDF Matrix: {X_train_tfidf.shape}\")"
      ],
      "metadata": {
        "colab": {
          "base_uri": "https://localhost:8080/"
        },
        "id": "09C849zWklp0",
        "outputId": "87e2a5f1-2c6c-4cb5-f69f-911f184e6e9f"
      },
      "execution_count": null,
      "outputs": [
        {
          "output_type": "stream",
          "name": "stdout",
          "text": [
            "Shape of TFIDF Matrix: (11314, 130107)\n"
          ]
        }
      ]
    },
    {
      "cell_type": "markdown",
      "source": [
        "#Model 1:\n",
        "Naive Bayes (NB) classifier"
      ],
      "metadata": {
        "id": "5Hk2f3-Ikqlv"
      }
    },
    {
      "cell_type": "code",
      "source": [
        "from sklearn.naive_bayes import MultinomialNB\n",
        "clf = MultinomialNB().fit(X_train_tfidf, twenty_train.target)"
      ],
      "metadata": {
        "id": "VSiLjTvjkumB"
      },
      "execution_count": null,
      "outputs": []
    },
    {
      "cell_type": "markdown",
      "source": [
        "##Pipeline"
      ],
      "metadata": {
        "id": "vShLnotsky5H"
      }
    },
    {
      "cell_type": "code",
      "source": [
        "text_nb_clf = Pipeline(\n",
        "    [\n",
        "        (\"vect\", CountVectorizer()),\n",
        "        (\"tfidf\", TfidfTransformer()),\n",
        "        (\"clf\", MultinomialNB()),\n",
        "    ]\n",
        ")\n",
        "text_nb_clf = text_nb_clf.fit(twenty_train.data, twenty_train.target)"
      ],
      "metadata": {
        "id": "4f0hYRiDk0Kl"
      },
      "execution_count": null,
      "outputs": []
    },
    {
      "cell_type": "markdown",
      "source": [
        "###Predict amd Accuracy"
      ],
      "metadata": {
        "id": "aCcOa8-uk3M_"
      }
    },
    {
      "cell_type": "code",
      "source": [
        "predicted = text_nb_clf.predict(twenty_test.data)\n"
      ],
      "metadata": {
        "id": "RwtE8QR7k5hw"
      },
      "execution_count": null,
      "outputs": []
    },
    {
      "cell_type": "code",
      "source": [
        "naivebayes_clf_accuracy = np.mean(predicted == twenty_test.target) * 100.0\n",
        "print(f\"Test Accuracy is {naivebayes_clf_accuracy} %\")"
      ],
      "metadata": {
        "colab": {
          "base_uri": "https://localhost:8080/"
        },
        "id": "ZSKYJi5LlBab",
        "outputId": "e741f98a-b60f-424a-ad85-1fbaa92b0882"
      },
      "execution_count": null,
      "outputs": [
        {
          "output_type": "stream",
          "name": "stdout",
          "text": [
            "Test Accuracy is 77.38980350504514 %\n"
          ]
        }
      ]
    },
    {
      "cell_type": "markdown",
      "source": [
        "#Model 2:\n",
        "Logistic Regression"
      ],
      "metadata": {
        "id": "tAt2O2wblKf1"
      }
    },
    {
      "cell_type": "code",
      "source": [
        "from sklearn.linear_model import LogisticRegression as LR\n",
        "\n",
        "\n",
        "text_lr_clf = Pipeline(\n",
        "    [(\"vect\", CountVectorizer()), (\"tfidf\", TfidfTransformer()), (\"clf\", LR())]\n",
        ")\n",
        "text_lr_clf = text_lr_clf.fit(twenty_train.data, twenty_train.target)"
      ],
      "metadata": {
        "id": "5LKQrsDYlMzG"
      },
      "execution_count": null,
      "outputs": []
    },
    {
      "cell_type": "markdown",
      "source": [
        "##Predict and Accuracy"
      ],
      "metadata": {
        "id": "2hP51hdjlPm_"
      }
    },
    {
      "cell_type": "code",
      "source": [
        "lr_predicted = text_lr_clf.predict(twenty_test.data)\n",
        "lr_clf_accuracy = np.mean(lr_predicted == twenty_test.target) * 100.0\n",
        "print(f\"Test Accuracy is {lr_clf_accuracy}\")"
      ],
      "metadata": {
        "colab": {
          "base_uri": "https://localhost:8080/"
        },
        "id": "4p_JJLcElTvZ",
        "outputId": "a2bdd3d5-47d0-46fe-c0fd-58b1ac190e4c"
      },
      "execution_count": null,
      "outputs": [
        {
          "output_type": "stream",
          "name": "stdout",
          "text": [
            "Test Accuracy is 82.74030801911843\n"
          ]
        }
      ]
    },
    {
      "cell_type": "markdown",
      "source": [
        "#Confusion Matrix"
      ],
      "metadata": {
        "id": "N48rBVQTldqZ"
      }
    },
    {
      "cell_type": "code",
      "source": [
        "from sklearn.metrics import confusion_matrix\n",
        "\n",
        "cf = confusion_matrix(y_true=twenty_test.target, y_pred=lr_predicted)"
      ],
      "metadata": {
        "id": "lRCK80O4lfhA"
      },
      "execution_count": null,
      "outputs": []
    },
    {
      "cell_type": "code",
      "source": [
        "import seaborn as sns\n",
        "import matplotlib.pyplot as plt\n",
        "\n",
        "%matplotlib inline\n",
        "\n",
        "plt.figure(figsize=(20, 10))\n",
        "ax = sns.heatmap(cf, annot=True, fmt=\"d\", linewidths=0.5, center=90, vmax=200)"
      ],
      "metadata": {
        "colab": {
          "base_uri": "https://localhost:8080/",
          "height": 596
        },
        "id": "bsIWvqBNljmU",
        "outputId": "42b35f2f-519a-4d00-84ac-6c00c15dd8dc"
      },
      "execution_count": null,
      "outputs": [
        {
          "output_type": "display_data",
          "data": {
            "text/plain": [
              "<Figure size 2000x1000 with 2 Axes>"
            ],
            "image/png": "[encoded data removed]"
          },
          "metadata": {}
        }
      ]
    },
    {
      "cell_type": "markdown",
      "source": [
        "#Removing Stopwords"
      ],
      "metadata": {
        "id": "PcmUqrclll_r"
      }
    },
    {
      "cell_type": "code",
      "source": [
        "nlp = spacy.load(\"en_core_web_sm\")\n",
        "from spacy.lang.en.stop_words import STOP_WORDS"
      ],
      "metadata": {
        "id": "knfBFUh5lpuV"
      },
      "execution_count": null,
      "outputs": []
    },
    {
      "cell_type": "code",
      "source": [
        "doc = nlp(\"I am learning the most important ideas Natural Language Processing ideas using Python\")\n",
        "print(doc)  # doc is a spaCy object which stores the entire document string"
      ],
      "metadata": {
        "colab": {
          "base_uri": "https://localhost:8080/"
        },
        "id": "kPSxxZCqlvxu",
        "outputId": "ae4a5683-5907-4fdc-d3ce-c2ef3f7fe48f"
      },
      "execution_count": null,
      "outputs": [
        {
          "output_type": "stream",
          "name": "stdout",
          "text": [
            "I am learning the most important ideas Natural Language Processing ideas using Python\n"
          ]
        }
      ]
    },
    {
      "cell_type": "markdown",
      "source": [
        "##Tokens"
      ],
      "metadata": {
        "id": "Ha87zEt4mG4f"
      }
    },
    {
      "cell_type": "code",
      "source": [
        "for token in doc:\n",
        "    print(token)"
      ],
      "metadata": {
        "colab": {
          "base_uri": "https://localhost:8080/"
        },
        "id": "F4rqwiTUlxov",
        "outputId": "b1dc2c2e-ae10-4ef0-f040-d0b6dae02503"
      },
      "execution_count": null,
      "outputs": [
        {
          "output_type": "stream",
          "name": "stdout",
          "text": [
            "I\n",
            "am\n",
            "learning\n",
            "the\n",
            "most\n",
            "important\n",
            "ideas\n",
            "Natural\n",
            "Language\n",
            "Processing\n",
            "ideas\n",
            "using\n",
            "Python\n"
          ]
        }
      ]
    },
    {
      "cell_type": "markdown",
      "source": [
        "##Simplified Tokens"
      ],
      "metadata": {
        "id": "Xh71MRyJmIyu"
      }
    },
    {
      "cell_type": "code",
      "source": [
        "simplified_doc = [token for token in doc if not token.is_punct | token.is_stop]\n",
        "simplified_doc\n",
        "# please note that .orth_ attribute returns the unicode string representation of the token"
      ],
      "metadata": {
        "colab": {
          "base_uri": "https://localhost:8080/"
        },
        "id": "49VVKc7NlzSL",
        "outputId": "7c867e61-7042-48c9-a223-128a6a7808fe"
      },
      "execution_count": null,
      "outputs": [
        {
          "output_type": "execute_result",
          "data": {
            "text/plain": [
              "[learning, important, ideas, Natural, Language, Processing, ideas, Python]"
            ]
          },
          "metadata": {},
          "execution_count": 21
        }
      ]
    },
    {
      "cell_type": "markdown",
      "source": [
        "##POS Tokens"
      ],
      "metadata": {
        "id": "agiyxpEumKod"
      }
    },
    {
      "cell_type": "code",
      "source": [
        "for token in simplified_doc:\n",
        "    print(f'Token:{token.orth_}\\tLemmatized:{token.lemma_}\\tPart-of-Speech-Tag:{token.pos_}')"
      ],
      "metadata": {
        "colab": {
          "base_uri": "https://localhost:8080/"
        },
        "id": "MZG43Jp4l345",
        "outputId": "8cdfdd2a-e2c4-40aa-9d8c-4b45c7f9249e"
      },
      "execution_count": null,
      "outputs": [
        {
          "output_type": "stream",
          "name": "stdout",
          "text": [
            "Token:learning\tLemmatized:learn\tPart-of-Speech-Tag:VERB\n",
            "Token:important\tLemmatized:important\tPart-of-Speech-Tag:ADJ\n",
            "Token:ideas\tLemmatized:idea\tPart-of-Speech-Tag:NOUN\n",
            "Token:Natural\tLemmatized:Natural\tPart-of-Speech-Tag:PROPN\n",
            "Token:Language\tLemmatized:Language\tPart-of-Speech-Tag:PROPN\n",
            "Token:Processing\tLemmatized:Processing\tPart-of-Speech-Tag:PROPN\n",
            "Token:ideas\tLemmatized:idea\tPart-of-Speech-Tag:NOUN\n",
            "Token:Python\tLemmatized:Python\tPart-of-Speech-Tag:PROPN\n"
          ]
        }
      ]
    },
    {
      "cell_type": "markdown",
      "source": [
        "#Our Pipeline with Removing Stopwords"
      ],
      "metadata": {
        "id": "FhRwXKuNmTyC"
      }
    },
    {
      "cell_type": "code",
      "source": [
        "from spacy.tokenizer import Tokenizer\n",
        "from spacy.lang.en import English\n",
        "nlp = English()\n",
        "# Create a blank Tokenizer with just the English vocab\n",
        "tokenizer = Tokenizer(nlp.vocab)\n",
        "\n",
        "def spacy_tokenizer(document):\n",
        "    return [token.orth_ for token in tokenizer(document)]"
      ],
      "metadata": {
        "id": "A3NcUM-JmW-P"
      },
      "execution_count": null,
      "outputs": []
    },
    {
      "cell_type": "code",
      "source": [
        "text_lr_clf = Pipeline([('vect', CountVectorizer()), ('tfidf', TfidfTransformer()), ('clf',LR())])\n",
        "text_lr_clf = text_lr_clf.fit(twenty_train.data, twenty_train.target)"
      ],
      "metadata": {
        "id": "zKhh1OMvmYY4"
      },
      "execution_count": null,
      "outputs": []
    },
    {
      "cell_type": "code",
      "source": [
        "def calc_print_accuracy(text_clf, test):\n",
        "    predictions = text_clf.predict(test.data)\n",
        "    clf_accuracy = np.mean(predictions == test.target) * 100.\n",
        "    print(f'Test Accuracy is {clf_accuracy}')\n",
        "    return clf_accuracy\n",
        "\n",
        "calc_print_accuracy(text_lr_clf, twenty_test)"
      ],
      "metadata": {
        "colab": {
          "base_uri": "https://localhost:8080/"
        },
        "id": "4QNJ88T5maHU",
        "outputId": "4947624e-5eb5-4a63-fb37-21891fe5f135"
      },
      "execution_count": null,
      "outputs": [
        {
          "output_type": "stream",
          "name": "stdout",
          "text": [
            "Test Accuracy is 82.74030801911843\n"
          ]
        },
        {
          "output_type": "execute_result",
          "data": {
            "text/plain": [
              "82.74030801911843"
            ]
          },
          "metadata": {},
          "execution_count": 25
        }
      ]
    },
    {
      "cell_type": "markdown",
      "source": [
        "##Apply Stopwords Tokenizer to Pipeline"
      ],
      "metadata": {
        "id": "rq1A4frAmzrw"
      }
    },
    {
      "cell_type": "code",
      "source": [
        "text_lr_clf = Pipeline([('vect', CountVectorizer(tokenizer=spacy_tokenizer, stop_words=list(STOP_WORDS))), ('tfidf', TfidfTransformer()), ('clf',LR())])\n",
        "text_lr_clf = text_lr_clf.fit(twenty_train.data, twenty_train.target)\n",
        "calc_print_accuracy(text_lr_clf, twenty_test)"
      ],
      "metadata": {
        "colab": {
          "base_uri": "https://localhost:8080/"
        },
        "id": "8YVS5MtxmqaB",
        "outputId": "b1f5d47e-f1ce-471c-f211-5a90f52caba4"
      },
      "execution_count": null,
      "outputs": [
        {
          "output_type": "stream",
          "name": "stderr",
          "text": [
            "/usr/local/lib/python3.10/dist-packages/sklearn/feature_extraction/text.py:528: UserWarning: The parameter 'token_pattern' will not be used since 'tokenizer' is not None'\n",
            "  warnings.warn(\n",
            "/usr/local/lib/python3.10/dist-packages/sklearn/linear_model/_logistic.py:458: ConvergenceWarning: lbfgs failed to converge (status=1):\n",
            "STOP: TOTAL NO. of ITERATIONS REACHED LIMIT.\n",
            "\n",
            "Increase the number of iterations (max_iter) or scale the data as shown in:\n",
            "    https://scikit-learn.org/stable/modules/preprocessing.html\n",
            "Please also refer to the documentation for alternative solver options:\n",
            "    https://scikit-learn.org/stable/modules/linear_model.html#logistic-regression\n",
            "  n_iter_i = _check_optimize_result(\n"
          ]
        },
        {
          "output_type": "stream",
          "name": "stdout",
          "text": [
            "Test Accuracy is 79.5539033457249\n"
          ]
        },
        {
          "output_type": "execute_result",
          "data": {
            "text/plain": [
              "79.5539033457249"
            ]
          },
          "metadata": {},
          "execution_count": 26
        }
      ]
    }
  ]
}